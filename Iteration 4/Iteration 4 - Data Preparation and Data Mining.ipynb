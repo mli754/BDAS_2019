{
 "cells": [
  {
   "cell_type": "code",
   "execution_count": 1,
   "metadata": {},
   "outputs": [],
   "source": [
    "import findspark\n",
    "findspark.init('/home/ubuntu/spark-2.1.1-bin-hadoop2.7')\n",
    "import pyspark\n",
    "from pyspark.sql import SparkSession\n",
    "from pyspark.sql import SQLContext\n",
    "from pyspark.sql.functions import isnan, when, count, col\n",
    "spark = SparkSession.builder.appName('dataPreparation').getOrCreate()"
   ]
  },
  {
   "cell_type": "code",
   "execution_count": 2,
   "metadata": {
    "scrolled": true
   },
   "outputs": [
    {
     "name": "stdout",
     "output_type": "stream",
     "text": [
      "+-----------+-------------------+------+-----------------------------+------------------------+------------------------------------------------+\n",
      "|YearQuarter|           Industry|Gender|Ordinary Time Hourly Earnings|Overtime Hourly Earnings|Total (Ordinary Time + Overtime) Hourly Earnings|\n",
      "+-----------+-------------------+------+-----------------------------+------------------------+------------------------------------------------+\n",
      "|     1989Q1|Forestry and Mining|  Male|                        13.97|                   16.74|                                           14.18|\n",
      "|     1989Q2|Forestry and Mining|  Male|                        14.07|                   16.44|                                           14.24|\n",
      "|     1989Q3|Forestry and Mining|  Male|                        14.04|                   16.64|                                           14.23|\n",
      "|     1989Q4|Forestry and Mining|  Male|                         14.3|                    16.5|                                           14.48|\n",
      "|     1990Q1|Forestry and Mining|  Male|                        14.29|                   16.16|                                           14.42|\n",
      "|     1990Q2|Forestry and Mining|  Male|                        14.37|                   17.49|                                            14.6|\n",
      "|     1990Q3|Forestry and Mining|  Male|                        14.64|                   18.36|                                           14.88|\n",
      "|     1990Q4|Forestry and Mining|  Male|                        14.96|                   17.49|                                           15.16|\n",
      "|     1991Q1|Forestry and Mining|  Male|                        14.71|                   17.32|                                           14.89|\n",
      "|     1991Q2|Forestry and Mining|  Male|                        15.16|                   17.92|                                           15.35|\n",
      "|     1991Q3|Forestry and Mining|  Male|                        15.63|                   18.49|                                           15.82|\n",
      "|     1991Q4|Forestry and Mining|  Male|                        16.13|                   18.23|                                           16.29|\n",
      "|     1992Q1|Forestry and Mining|  Male|                        15.55|                   17.83|                                           15.73|\n",
      "|     1992Q2|Forestry and Mining|  Male|                        15.74|                    18.5|                                           15.98|\n",
      "|     1992Q3|Forestry and Mining|  Male|                        15.87|                    18.6|                                           16.09|\n",
      "|     1992Q4|Forestry and Mining|  Male|                         15.7|                   18.25|                                           15.91|\n",
      "|     1993Q1|Forestry and Mining|  Male|                        15.05|                    18.6|                                           15.31|\n",
      "|     1993Q2|Forestry and Mining|  Male|                         14.9|                   18.94|                                           15.23|\n",
      "|     1993Q3|Forestry and Mining|  Male|                        14.84|                   19.27|                                           15.16|\n",
      "|     1993Q4|Forestry and Mining|  Male|                        15.09|                   17.86|                                           15.32|\n",
      "+-----------+-------------------+------+-----------------------------+------------------------+------------------------------------------------+\n",
      "only showing top 20 rows\n",
      "\n"
     ]
    }
   ],
   "source": [
    "data = spark.read.csv(\"Datasets/Average Hourly Earnings by Industry ANZSIC06 and Sex Quarterly December 2018.csv\",inferSchema=True,header=True)\n",
    "data.show()"
   ]
  },
  {
   "cell_type": "code",
   "execution_count": 3,
   "metadata": {},
   "outputs": [
    {
     "name": "stdout",
     "output_type": "stream",
     "text": [
      "+-----------+--------+------+-----------------------------+------------------------+------------------------------------------------+\n",
      "|YearQuarter|Industry|Gender|Ordinary Time Hourly Earnings|Overtime Hourly Earnings|Total (Ordinary Time + Overtime) Hourly Earnings|\n",
      "+-----------+--------+------+-----------------------------+------------------------+------------------------------------------------+\n",
      "|          0|       0|     0|                            0|                       0|                                               0|\n",
      "+-----------+--------+------+-----------------------------+------------------------+------------------------------------------------+\n",
      "\n"
     ]
    }
   ],
   "source": [
    "data.select([count(when(isnan(c) | col(c).isNull(), c)).alias(c) for c in data.columns]).show()"
   ]
  },
  {
   "cell_type": "code",
   "execution_count": 4,
   "metadata": {},
   "outputs": [],
   "source": [
    "results = data.select('Ordinary Time Hourly Earnings', 'Overtime Hourly Earnings', 'Total (Ordinary Time + Overtime) Hourly Earnings')"
   ]
  },
  {
   "cell_type": "code",
   "execution_count": 5,
   "metadata": {},
   "outputs": [
    {
     "name": "stdout",
     "output_type": "stream",
     "text": [
      "{'Ordinary Time Hourly Earnings': {'q3': 26.93, 'q1': 15.78, 'upper': 43.655, 'lower': -0.9450000000000021}, 'Total (Ordinary Time + Overtime) Hourly Earnings': {'q3': 26.96, 'q1': 15.9, 'upper': 43.55, 'lower': -0.6899999999999995}, 'Overtime Hourly Earnings': {'q3': 28.57, 'q1': 18.6, 'upper': 43.525, 'lower': 3.645000000000003}}\n"
     ]
    }
   ],
   "source": [
    "bounds = {\n",
    "    c: dict(\n",
    "        zip([\"q1\", \"q3\"], results.approxQuantile(c, [0.25, 0.75], 0))\n",
    "    )\n",
    "    for c in results.columns\n",
    "}\n",
    "\n",
    "for c in bounds:\n",
    "    iqr = bounds[c]['q3'] - bounds[c]['q1']\n",
    "    bounds[c]['lower'] = bounds[c]['q1'] - (iqr * 1.5)\n",
    "    bounds[c]['upper'] = bounds[c]['q3'] + (iqr * 1.5)\n",
    "print(bounds)"
   ]
  },
  {
   "cell_type": "code",
   "execution_count": 6,
   "metadata": {
    "scrolled": false
   },
   "outputs": [
    {
     "name": "stdout",
     "output_type": "stream",
     "text": [
      "+-------+-----------------------------+------------------------+------------------------------------------------+---------------------------------+----------------------------+----------------------------------------------------+\n",
      "|summary|Ordinary Time Hourly Earnings|Overtime Hourly Earnings|Total (Ordinary Time + Overtime) Hourly Earnings|Ordinary Time Hourly Earnings_out|Overtime Hourly Earnings_out|Total (Ordinary Time + Overtime) Hourly Earnings_out|\n",
      "+-------+-----------------------------+------------------------+------------------------------------------------+---------------------------------+----------------------------+----------------------------------------------------+\n",
      "|  count|                         6120|                    6120|                                            6120|                             6120|                        6120|                                                6120|\n",
      "|   mean|           21.840455882352916|      24.210566993464013|                              21.902465686274518|             0.009477124183006535|         0.02630718954248366|                                0.010294117647058823|\n",
      "| stddev|            7.760313690688466|       8.050718595402456|                               7.725906006015882|              0.09689603926273563|         0.16006032450989463|                                 0.10094460753889126|\n",
      "|    min|                          8.7|                    4.87|                                            8.96|                                0|                           0|                                                   0|\n",
      "|    max|                        54.21|                   87.77|                                            54.1|                                1|                           1|                                                   1|\n",
      "+-------+-----------------------------+------------------------+------------------------------------------------+---------------------------------+----------------------------+----------------------------------------------------+\n",
      "\n"
     ]
    }
   ],
   "source": [
    "import pyspark.sql.functions as f\n",
    "results.select(\n",
    "    \"*\",\n",
    "    *[\n",
    "        f.when(\n",
    "            f.col(c).between(bounds[c]['lower'], bounds[c]['upper']),\n",
    "            0\n",
    "        ).otherwise(1).alias(c+\"_out\") \n",
    "        for c in results.columns\n",
    "    ]\n",
    ").describe().show()"
   ]
  },
  {
   "cell_type": "code",
   "execution_count": null,
   "metadata": {},
   "outputs": [],
   "source": []
  },
  {
   "cell_type": "code",
   "execution_count": 7,
   "metadata": {
    "scrolled": true
   },
   "outputs": [
    {
     "name": "stdout",
     "output_type": "stream",
     "text": [
      "+-----------+-------------------+------+---------------------------------------+----------------------------------+----------------------------------------------------------+\n",
      "|YearQuarter|           Industry|Gender|Average Weekly Ordinary Time Hours Paid|Average Weekly Overtime Hours Paid|Average Total (Ordinary Time + Overtime) Weekly Hours Paid|\n",
      "+-----------+-------------------+------+---------------------------------------+----------------------------------+----------------------------------------------------------+\n",
      "|     1989Q1|Forestry and Mining|  Male|                                  37.74|                              3.15|                                                      40.9|\n",
      "|     1989Q2|Forestry and Mining|  Male|                                   36.9|                              2.87|                                                     39.77|\n",
      "|     1989Q3|Forestry and Mining|  Male|                                  37.22|                              2.81|                                                     40.03|\n",
      "|     1989Q4|Forestry and Mining|  Male|                                  36.41|                              3.31|                                                     39.72|\n",
      "|     1990Q1|Forestry and Mining|  Male|                                  36.78|                              2.87|                                                     39.65|\n",
      "|     1990Q2|Forestry and Mining|  Male|                                  36.89|                              3.06|                                                     39.96|\n",
      "|     1990Q3|Forestry and Mining|  Male|                                  36.62|                              2.51|                                                     39.13|\n",
      "|     1990Q4|Forestry and Mining|  Male|                                  36.77|                              3.21|                                                     39.97|\n",
      "|     1991Q1|Forestry and Mining|  Male|                                  37.43|                              2.82|                                                     40.25|\n",
      "|     1991Q2|Forestry and Mining|  Male|                                  37.52|                              2.87|                                                     40.39|\n",
      "|     1991Q3|Forestry and Mining|  Male|                                  37.68|                              2.66|                                                     40.34|\n",
      "|     1991Q4|Forestry and Mining|  Male|                                  36.87|                              3.01|                                                     39.88|\n",
      "|     1992Q1|Forestry and Mining|  Male|                                  37.64|                              3.34|                                                     40.98|\n",
      "|     1992Q2|Forestry and Mining|  Male|                                  38.17|                               3.7|                                                     41.87|\n",
      "|     1992Q3|Forestry and Mining|  Male|                                  37.89|                              3.26|                                                     41.16|\n",
      "|     1992Q4|Forestry and Mining|  Male|                                   37.8|                              3.49|                                                     41.29|\n",
      "|     1993Q1|Forestry and Mining|  Male|                                  38.05|                              2.95|                                                      41.0|\n",
      "|     1993Q2|Forestry and Mining|  Male|                                  37.89|                              3.35|                                                     41.23|\n",
      "|     1993Q3|Forestry and Mining|  Male|                                  37.69|                              2.93|                                                     40.62|\n",
      "|     1993Q4|Forestry and Mining|  Male|                                  37.77|                              3.41|                                                     41.18|\n",
      "+-----------+-------------------+------+---------------------------------------+----------------------------------+----------------------------------------------------------+\n",
      "only showing top 20 rows\n",
      "\n"
     ]
    }
   ],
   "source": [
    "data1 = spark.read.csv(\"Datasets/Average Weekly Paid Hours (Employees) by Industry (ANZSIC06) and Sex (Qrtly-MarJunSepDec).csv\",inferSchema=True,header=True)\n",
    "data1.show()"
   ]
  },
  {
   "cell_type": "code",
   "execution_count": 8,
   "metadata": {},
   "outputs": [
    {
     "name": "stdout",
     "output_type": "stream",
     "text": [
      "+-----------+--------+------+---------------------------------------+----------------------------------+----------------------------------------------------------+\n",
      "|YearQuarter|Industry|Gender|Average Weekly Ordinary Time Hours Paid|Average Weekly Overtime Hours Paid|Average Total (Ordinary Time + Overtime) Weekly Hours Paid|\n",
      "+-----------+--------+------+---------------------------------------+----------------------------------+----------------------------------------------------------+\n",
      "|          0|       0|     0|                                      0|                                 0|                                                         0|\n",
      "+-----------+--------+------+---------------------------------------+----------------------------------+----------------------------------------------------------+\n",
      "\n"
     ]
    }
   ],
   "source": [
    "data1.select([count(when(isnan(c) | col(c).isNull(), c)).alias(c) for c in data1.columns]).show()"
   ]
  },
  {
   "cell_type": "code",
   "execution_count": 9,
   "metadata": {},
   "outputs": [],
   "source": [
    "results2 = data1.select('Average Weekly Ordinary Time Hours Paid', 'Average Weekly Overtime Hours Paid', 'Average Total (Ordinary Time + Overtime) Weekly Hours Paid')"
   ]
  },
  {
   "cell_type": "code",
   "execution_count": 10,
   "metadata": {},
   "outputs": [
    {
     "name": "stdout",
     "output_type": "stream",
     "text": [
      "{'Average Weekly Overtime Hours Paid': {'q3': 1.15, 'q1': 0.27, 'upper': 2.4699999999999998, 'lower': -1.0499999999999998}, 'Average Weekly Ordinary Time Hours Paid': {'q3': 35.85, 'q1': 29.34, 'upper': 45.615, 'lower': 19.574999999999996}, 'Average Total (Ordinary Time + Overtime) Weekly Hours Paid': {'q3': 36.89, 'q1': 29.59, 'upper': 47.84, 'lower': 18.64}}\n"
     ]
    }
   ],
   "source": [
    "bounds = {\n",
    "    c: dict(\n",
    "        zip([\"q1\", \"q3\"], results2.approxQuantile(c, [0.25, 0.75], 0))\n",
    "    )\n",
    "    for c in results2.columns\n",
    "}\n",
    "\n",
    "for c in bounds:\n",
    "    iqr = bounds[c]['q3'] - bounds[c]['q1']\n",
    "    bounds[c]['lower'] = bounds[c]['q1'] - (iqr * 1.5)\n",
    "    bounds[c]['upper'] = bounds[c]['q3'] + (iqr * 1.5)\n",
    "print(bounds)"
   ]
  },
  {
   "cell_type": "code",
   "execution_count": 11,
   "metadata": {
    "scrolled": false
   },
   "outputs": [
    {
     "name": "stdout",
     "output_type": "stream",
     "text": [
      "+-------+---------------------------------------+----------------------------------+----------------------------------------------------------+-------------------------------------------+--------------------------------------+--------------------------------------------------------------+\n",
      "|summary|Average Weekly Ordinary Time Hours Paid|Average Weekly Overtime Hours Paid|Average Total (Ordinary Time + Overtime) Weekly Hours Paid|Average Weekly Ordinary Time Hours Paid_out|Average Weekly Overtime Hours Paid_out|Average Total (Ordinary Time + Overtime) Weekly Hours Paid_out|\n",
      "+-------+---------------------------------------+----------------------------------+----------------------------------------------------------+-------------------------------------------+--------------------------------------+--------------------------------------------------------------+\n",
      "|  count|                                   6120|                              6120|                                                      6120|                                       6120|                                  6120|                                                          6120|\n",
      "|   mean|                     32.438939542483546|                0.8350539215686288|                                        33.273946078431315|                        0.00130718954248366|                    0.0565359477124183|                                          1.633986928104575E-4|\n",
      "| stddev|                      4.361700338670528|                0.8118958243401412|                                         4.850888836495597|                       0.036134390083415915|                   0.23097262041106956|                                          0.012782749814122847|\n",
      "|    min|                                   16.4|                              0.01|                                                      16.9|                                          0|                                     0|                                                             0|\n",
      "|    max|                                   41.6|                              5.21|                                                     44.34|                                          1|                                     1|                                                             1|\n",
      "+-------+---------------------------------------+----------------------------------+----------------------------------------------------------+-------------------------------------------+--------------------------------------+--------------------------------------------------------------+\n",
      "\n"
     ]
    }
   ],
   "source": [
    "import pyspark.sql.functions as f\n",
    "results2.select(\n",
    "    \"*\",\n",
    "    *[\n",
    "        f.when(\n",
    "            f.col(c).between(bounds[c]['lower'], bounds[c]['upper']),\n",
    "            0\n",
    "        ).otherwise(1).alias(c+\"_out\") \n",
    "        for c in results2.columns\n",
    "    ]\n",
    ").describe().show()"
   ]
  },
  {
   "cell_type": "code",
   "execution_count": 12,
   "metadata": {
    "scrolled": true
   },
   "outputs": [
    {
     "name": "stdout",
     "output_type": "stream",
     "text": [
      "+-----------+-------------------+------+-----------------------------+----------------------------------+----------------------------------+------------------------------------+\n",
      "|YearQuarter|           Industry|Gender|Number of Working Proprietors|Number of Part-Time Paid Employees|Number of Full-Time Paid Employees|Total Number of People in Employment|\n",
      "+-----------+-------------------+------+-----------------------------+----------------------------------+----------------------------------+------------------------------------+\n",
      "|     1989Q1|Forestry and Mining|  Male|                          800|                               800|                              9000|                               10700|\n",
      "|     1989Q2|Forestry and Mining|  Male|                          800|                               900|                              8100|                                9800|\n",
      "|     1989Q3|Forestry and Mining|  Male|                          800|                               800|                              7900|                                9500|\n",
      "|     1989Q4|Forestry and Mining|  Male|                          800|                               900|                              7500|                                9200|\n",
      "|     1990Q1|Forestry and Mining|  Male|                          800|                               800|                              7700|                                9400|\n",
      "|     1990Q2|Forestry and Mining|  Male|                          800|                               800|                              7100|                                8800|\n",
      "|     1990Q3|Forestry and Mining|  Male|                          800|                               800|                              7700|                                9300|\n",
      "|     1990Q4|Forestry and Mining|  Male|                          800|                               800|                              7400|                                9000|\n",
      "|     1991Q1|Forestry and Mining|  Male|                          800|                               800|                              8100|                                9700|\n",
      "|     1991Q2|Forestry and Mining|  Male|                          800|                               800|                              7500|                                9100|\n",
      "|     1991Q3|Forestry and Mining|  Male|                          800|                               800|                              7500|                                9100|\n",
      "|     1991Q4|Forestry and Mining|  Male|                          900|                               800|                              7500|                                9200|\n",
      "|     1992Q1|Forestry and Mining|  Male|                          900|                               700|                              8400|                               10000|\n",
      "|     1992Q2|Forestry and Mining|  Male|                          900|                               700|                              7700|                                9200|\n",
      "|     1992Q3|Forestry and Mining|  Male|                          900|                               700|                              7600|                                9300|\n",
      "|     1992Q4|Forestry and Mining|  Male|                          900|                               700|                              7500|                                9200|\n",
      "|     1993Q1|Forestry and Mining|  Male|                         1000|                               700|                              9100|                               10800|\n",
      "|     1993Q2|Forestry and Mining|  Male|                         1000|                               600|                              8300|                                9900|\n",
      "|     1993Q3|Forestry and Mining|  Male|                         1100|                               700|                              8400|                               10100|\n",
      "|     1993Q4|Forestry and Mining|  Male|                         1100|                               700|                              8400|                               10200|\n",
      "+-----------+-------------------+------+-----------------------------+----------------------------------+----------------------------------+------------------------------------+\n",
      "only showing top 20 rows\n",
      "\n"
     ]
    }
   ],
   "source": [
    "data2 = spark.read.csv(\"Datasets/Filled Jobs by Industry (ANZSIC06) by Sex and Status in Employment (Qrtly-MarJunSepDec).csv\",inferSchema=True,header=True)\n",
    "data2.show()"
   ]
  },
  {
   "cell_type": "code",
   "execution_count": 13,
   "metadata": {},
   "outputs": [
    {
     "name": "stdout",
     "output_type": "stream",
     "text": [
      "+-----------+--------+------+-----------------------------+----------------------------------+----------------------------------+------------------------------------+\n",
      "|YearQuarter|Industry|Gender|Number of Working Proprietors|Number of Part-Time Paid Employees|Number of Full-Time Paid Employees|Total Number of People in Employment|\n",
      "+-----------+--------+------+-----------------------------+----------------------------------+----------------------------------+------------------------------------+\n",
      "|          0|       0|     0|                            0|                                 0|                                 0|                                   0|\n",
      "+-----------+--------+------+-----------------------------+----------------------------------+----------------------------------+------------------------------------+\n",
      "\n"
     ]
    }
   ],
   "source": [
    "data2.select([count(when(isnan(c) | col(c).isNull(), c)).alias(c) for c in data2.columns]).show()"
   ]
  },
  {
   "cell_type": "code",
   "execution_count": 14,
   "metadata": {},
   "outputs": [],
   "source": [
    "results3 = data2.select('Number of Working Proprietors', 'Number of Part-Time Paid Employees', 'Number of Full-Time Paid Employees', 'Total Number of People in Employment')"
   ]
  },
  {
   "cell_type": "code",
   "execution_count": 15,
   "metadata": {},
   "outputs": [
    {
     "name": "stdout",
     "output_type": "stream",
     "text": [
      "{'Number of Working Proprietors': {'q3': 9200.0, 'q1': 700.0, 'upper': 21950.0, 'lower': -12050.0}, 'Total Number of People in Employment': {'q3': 104200.0, 'q1': 22700.0, 'upper': 226450.0, 'lower': -99550.0}, 'Number of Part-Time Paid Employees': {'q3': 28500.0, 'q1': 4000.0, 'upper': 65250.0, 'lower': -32750.0}, 'Number of Full-Time Paid Employees': {'q3': 62300.0, 'q1': 14100.0, 'upper': 134600.0, 'lower': -58200.0}}\n"
     ]
    }
   ],
   "source": [
    "bounds = {\n",
    "    c: dict(\n",
    "        zip([\"q1\", \"q3\"], results3.approxQuantile(c, [0.25, 0.75], 0))\n",
    "    )\n",
    "    for c in results3.columns\n",
    "}\n",
    "\n",
    "for c in bounds:\n",
    "    iqr = bounds[c]['q3'] - bounds[c]['q1']\n",
    "    bounds[c]['lower'] = bounds[c]['q1'] - (iqr * 1.5)\n",
    "    bounds[c]['upper'] = bounds[c]['q3'] + (iqr * 1.5)\n",
    "print(bounds)"
   ]
  },
  {
   "cell_type": "code",
   "execution_count": 16,
   "metadata": {
    "scrolled": false
   },
   "outputs": [
    {
     "name": "stdout",
     "output_type": "stream",
     "text": [
      "+-------+-----------------------------+----------------------------------+----------------------------------+------------------------------------+---------------------------------+--------------------------------------+--------------------------------------+----------------------------------------+\n",
      "|summary|Number of Working Proprietors|Number of Part-Time Paid Employees|Number of Full-Time Paid Employees|Total Number of People in Employment|Number of Working Proprietors_out|Number of Part-Time Paid Employees_out|Number of Full-Time Paid Employees_out|Total Number of People in Employment_out|\n",
      "+-------+-----------------------------+----------------------------------+----------------------------------+------------------------------------+---------------------------------+--------------------------------------+--------------------------------------+----------------------------------------+\n",
      "|  count|                         6120|                              6120|                              6120|                                6120|                             6120|                                  6120|                                  6120|                                    6120|\n",
      "|   mean|            9733.071895424837|                 32557.63071895425|                 78505.24509803922|                  120796.66666666667|              0.06405228758169934|                   0.10800653594771242|                   0.09754901960784314|                     0.07287581699346406|\n",
      "| stddev|            20671.29766581712|                 72318.98628772057|                165525.36929618794|                   252199.2608754861|              0.24486606404948752|                    0.3104140279154299|                   0.29672815040598977|                      0.2599537922724639|\n",
      "|    min|                            0|                               100|                               600|                                1000|                                0|                                     0|                                     0|                                       0|\n",
      "|    max|                       152900|                            519600|                           1342100|                             1974700|                                1|                                     1|                                     1|                                       1|\n",
      "+-------+-----------------------------+----------------------------------+----------------------------------+------------------------------------+---------------------------------+--------------------------------------+--------------------------------------+----------------------------------------+\n",
      "\n"
     ]
    }
   ],
   "source": [
    "import pyspark.sql.functions as f\n",
    "results3.select(\n",
    "    \"*\",\n",
    "    *[\n",
    "        f.when(\n",
    "            f.col(c).between(bounds[c]['lower'], bounds[c]['upper']),\n",
    "            0\n",
    "        ).otherwise(1).alias(c+\"_out\") \n",
    "        for c in results3.columns\n",
    "    ]\n",
    ").describe().show()"
   ]
  },
  {
   "cell_type": "code",
   "execution_count": 17,
   "metadata": {
    "scrolled": true
   },
   "outputs": [
    {
     "name": "stdout",
     "output_type": "stream",
     "text": [
      "+-----------+-------------------+------+----------------------------------------+\n",
      "|YearQuarter|           Industry|Gender|Number of Full-Time Equivalent Employees|\n",
      "+-----------+-------------------+------+----------------------------------------+\n",
      "|     1989Q1|Forestry and Mining|  Male|                                    9400|\n",
      "|     1989Q2|Forestry and Mining|  Male|                                    8600|\n",
      "|     1989Q3|Forestry and Mining|  Male|                                    8300|\n",
      "|     1989Q4|Forestry and Mining|  Male|                                    7900|\n",
      "|     1990Q1|Forestry and Mining|  Male|                                    8100|\n",
      "|     1990Q2|Forestry and Mining|  Male|                                    7500|\n",
      "|     1990Q3|Forestry and Mining|  Male|                                    8100|\n",
      "|     1990Q4|Forestry and Mining|  Male|                                    7800|\n",
      "|     1991Q1|Forestry and Mining|  Male|                                    8500|\n",
      "|     1991Q2|Forestry and Mining|  Male|                                    7800|\n",
      "|     1991Q3|Forestry and Mining|  Male|                                    7800|\n",
      "|     1991Q4|Forestry and Mining|  Male|                                    7900|\n",
      "|     1992Q1|Forestry and Mining|  Male|                                    8800|\n",
      "|     1992Q2|Forestry and Mining|  Male|                                    8000|\n",
      "|     1992Q3|Forestry and Mining|  Male|                                    8000|\n",
      "|     1992Q4|Forestry and Mining|  Male|                                    7900|\n",
      "|     1993Q1|Forestry and Mining|  Male|                                    9500|\n",
      "|     1993Q2|Forestry and Mining|  Male|                                    8600|\n",
      "|     1993Q3|Forestry and Mining|  Male|                                    8700|\n",
      "|     1993Q4|Forestry and Mining|  Male|                                    8700|\n",
      "+-----------+-------------------+------+----------------------------------------+\n",
      "only showing top 20 rows\n",
      "\n"
     ]
    }
   ],
   "source": [
    "data3 = spark.read.csv(\"Datasets/Full-Time Equivalent Employees by Industry (ANZSIC06) and Sex (Qrtly-MarJunSepDec).csv\",inferSchema=True,header=True)\n",
    "data3.show()"
   ]
  },
  {
   "cell_type": "code",
   "execution_count": 18,
   "metadata": {},
   "outputs": [
    {
     "name": "stdout",
     "output_type": "stream",
     "text": [
      "+-----------+--------+------+----------------------------------------+\n",
      "|YearQuarter|Industry|Gender|Number of Full-Time Equivalent Employees|\n",
      "+-----------+--------+------+----------------------------------------+\n",
      "|          0|       0|     0|                                       0|\n",
      "+-----------+--------+------+----------------------------------------+\n",
      "\n"
     ]
    }
   ],
   "source": [
    "data3.select([count(when(isnan(c) | col(c).isNull(), c)).alias(c) for c in data3.columns]).show()"
   ]
  },
  {
   "cell_type": "code",
   "execution_count": 19,
   "metadata": {},
   "outputs": [],
   "source": [
    "results4 = data3.select('Number of Full-Time Equivalent Employees')"
   ]
  },
  {
   "cell_type": "code",
   "execution_count": 20,
   "metadata": {},
   "outputs": [
    {
     "name": "stdout",
     "output_type": "stream",
     "text": [
      "{'Number of Full-Time Equivalent Employees': {'q3': 78900.0, 'q1': 17500.0, 'upper': 171000.0, 'lower': -74600.0}}\n"
     ]
    }
   ],
   "source": [
    "bounds = {\n",
    "    c: dict(\n",
    "        zip([\"q1\", \"q3\"], results4.approxQuantile(c, [0.25, 0.75], 0))\n",
    "    )\n",
    "    for c in results4.columns\n",
    "}\n",
    "\n",
    "for c in bounds:\n",
    "    iqr = bounds[c]['q3'] - bounds[c]['q1']\n",
    "    bounds[c]['lower'] = bounds[c]['q1'] - (iqr * 1.5)\n",
    "    bounds[c]['upper'] = bounds[c]['q3'] + (iqr * 1.5)\n",
    "print(bounds)"
   ]
  },
  {
   "cell_type": "code",
   "execution_count": 21,
   "metadata": {
    "scrolled": true
   },
   "outputs": [
    {
     "name": "stdout",
     "output_type": "stream",
     "text": [
      "+-------+----------------------------------------+--------------------------------------------+\n",
      "|summary|Number of Full-Time Equivalent Employees|Number of Full-Time Equivalent Employees_out|\n",
      "+-------+----------------------------------------+--------------------------------------------+\n",
      "|  count|                                    6120|                                        6120|\n",
      "|   mean|                       94783.25163398693|                         0.08349673202614379|\n",
      "| stddev|                       198506.0713472215|                         0.27665417744919085|\n",
      "|    min|                                     700|                                           0|\n",
      "|    max|                                 1592800|                                           1|\n",
      "+-------+----------------------------------------+--------------------------------------------+\n",
      "\n"
     ]
    }
   ],
   "source": [
    "import pyspark.sql.functions as f\n",
    "results4.select(\n",
    "    \"*\",\n",
    "    *[\n",
    "        f.when(\n",
    "            f.col(c).between(bounds[c]['lower'], bounds[c]['upper']),\n",
    "            0\n",
    "        ).otherwise(1).alias(c+\"_out\") \n",
    "        for c in results4.columns\n",
    "    ]\n",
    ").describe().show()"
   ]
  },
  {
   "cell_type": "code",
   "execution_count": 22,
   "metadata": {
    "scrolled": true
   },
   "outputs": [
    {
     "name": "stdout",
     "output_type": "stream",
     "text": [
      "+-----------+-------------------+--------------------+\n",
      "|YearQuarter|           Industry|Total Gross Earnings|\n",
      "+-----------+-------------------+--------------------+\n",
      "|     1989Q1|Forestry and Mining|             6273000|\n",
      "|     1989Q2|Forestry and Mining|             5601500|\n",
      "|     1989Q3|Forestry and Mining|             5417300|\n",
      "|     1989Q4|Forestry and Mining|             5228800|\n",
      "|     1990Q1|Forestry and Mining|             5234500|\n",
      "|     1990Q2|Forestry and Mining|             5004300|\n",
      "|     1990Q3|Forestry and Mining|             5385500|\n",
      "|     1990Q4|Forestry and Mining|             5388800|\n",
      "|     1991Q1|Forestry and Mining|             5769000|\n",
      "|     1991Q2|Forestry and Mining|             5560500|\n",
      "|     1991Q3|Forestry and Mining|             5727100|\n",
      "|     1991Q4|Forestry and Mining|             5879700|\n",
      "|     1992Q1|Forestry and Mining|             6338500|\n",
      "|     1992Q2|Forestry and Mining|             5993000|\n",
      "|     1992Q3|Forestry and Mining|             5995200|\n",
      "|     1992Q4|Forestry and Mining|             5815100|\n",
      "|     1993Q1|Forestry and Mining|             6628800|\n",
      "|     1993Q2|Forestry and Mining|             5956400|\n",
      "|     1993Q3|Forestry and Mining|             5954400|\n",
      "|     1993Q4|Forestry and Mining|             6107000|\n",
      "+-----------+-------------------+--------------------+\n",
      "only showing top 20 rows\n",
      "\n"
     ]
    }
   ],
   "source": [
    "data4 = spark.read.csv(\"Datasets/Total Gross Earnings by Industry (ANZSIC06) (Qrtly-MarJunSepDec).csv\",inferSchema=True,header=True)\n",
    "data4.show()"
   ]
  },
  {
   "cell_type": "code",
   "execution_count": 23,
   "metadata": {},
   "outputs": [
    {
     "name": "stdout",
     "output_type": "stream",
     "text": [
      "+-----------+--------+--------------------+\n",
      "|YearQuarter|Industry|Total Gross Earnings|\n",
      "+-----------+--------+--------------------+\n",
      "|          0|       0|                   0|\n",
      "+-----------+--------+--------------------+\n",
      "\n"
     ]
    }
   ],
   "source": [
    "data4.select([count(when(isnan(c) | col(c).isNull(), c)).alias(c) for c in data4.columns]).show()"
   ]
  },
  {
   "cell_type": "code",
   "execution_count": 24,
   "metadata": {},
   "outputs": [],
   "source": [
    "results5 = data4.select('Total Gross Earnings')"
   ]
  },
  {
   "cell_type": "code",
   "execution_count": 25,
   "metadata": {},
   "outputs": [
    {
     "name": "stdout",
     "output_type": "stream",
     "text": [
      "{'Total Gross Earnings': {'q3': 101427500.0, 'q1': 27123500.0, 'upper': 212883500.0, 'lower': -84332500.0}}\n"
     ]
    }
   ],
   "source": [
    "bounds = {\n",
    "    c: dict(\n",
    "        zip([\"q1\", \"q3\"], results5.approxQuantile(c, [0.25, 0.75], 0))\n",
    "    )\n",
    "    for c in results5.columns\n",
    "}\n",
    "\n",
    "for c in bounds:\n",
    "    iqr = bounds[c]['q3'] - bounds[c]['q1']\n",
    "    bounds[c]['lower'] = bounds[c]['q1'] - (iqr * 1.5)\n",
    "    bounds[c]['upper'] = bounds[c]['q3'] + (iqr * 1.5)\n",
    "print(bounds)"
   ]
  },
  {
   "cell_type": "code",
   "execution_count": 26,
   "metadata": {
    "scrolled": true
   },
   "outputs": [
    {
     "name": "stdout",
     "output_type": "stream",
     "text": [
      "+-------+--------------------+------------------------+\n",
      "|summary|Total Gross Earnings|Total Gross Earnings_out|\n",
      "+-------+--------------------+------------------------+\n",
      "|  count|                2040|                    2040|\n",
      "|   mean|1.2021931794117647E8|     0.07549019607843137|\n",
      "| stddev| 2.537836196783933E8|      0.2642454439277016|\n",
      "|    min|             4721200|                       0|\n",
      "|    max|          1955658900|                       1|\n",
      "+-------+--------------------+------------------------+\n",
      "\n"
     ]
    }
   ],
   "source": [
    "import pyspark.sql.functions as f\n",
    "results5.select(\n",
    "    \"*\",\n",
    "    *[\n",
    "        f.when(\n",
    "            f.col(c).between(bounds[c]['lower'], bounds[c]['upper']),\n",
    "            0\n",
    "        ).otherwise(1).alias(c+\"_out\") \n",
    "        for c in results5.columns\n",
    "    ]\n",
    ").describe().show()"
   ]
  },
  {
   "cell_type": "code",
   "execution_count": null,
   "metadata": {},
   "outputs": [],
   "source": []
  },
  {
   "cell_type": "code",
   "execution_count": 27,
   "metadata": {},
   "outputs": [],
   "source": [
    "data = data.filter((data.Gender != 'Both Sexes'))\n",
    "data1 = data1.filter((data1.Gender != 'Both Sexes'))\n",
    "data2 = data2.filter((data2.Gender != 'Both Sexes'))\n",
    "data3 = data3.filter((data3.Gender != 'Both Sexes'))"
   ]
  },
  {
   "cell_type": "code",
   "execution_count": 28,
   "metadata": {},
   "outputs": [],
   "source": [
    "data.createOrReplaceTempView('data') \n",
    "data1.createOrReplaceTempView('data1') \n",
    "data2.createOrReplaceTempView('data2') \n",
    "data3.createOrReplaceTempView('data3') \n",
    "data4.createOrReplaceTempView('data4') "
   ]
  },
  {
   "cell_type": "code",
   "execution_count": 29,
   "metadata": {
    "scrolled": true
   },
   "outputs": [
    {
     "name": "stdout",
     "output_type": "stream",
     "text": [
      "+-----------+-------------------+------+-----------------------------+------------------------+------------------------------------------------+---------------------------------------+----------------------------------+----------------------------------------------------------+-----------------------------+----------------------------------+----------------------------------+------------------------------------+----------------------------------------+--------------------+\n",
      "|YearQuarter|           Industry|Gender|Ordinary Time Hourly Earnings|Overtime Hourly Earnings|Total (Ordinary Time + Overtime) Hourly Earnings|Average Weekly Ordinary Time Hours Paid|Average Weekly Overtime Hours Paid|Average Total (Ordinary Time + Overtime) Weekly Hours Paid|Number of Working Proprietors|Number of Part-Time Paid Employees|Number of Full-Time Paid Employees|Total Number of People in Employment|Number of Full-Time Equivalent Employees|Total Gross Earnings|\n",
      "+-----------+-------------------+------+-----------------------------+------------------------+------------------------------------------------+---------------------------------------+----------------------------------+----------------------------------------------------------+-----------------------------+----------------------------------+----------------------------------+------------------------------------+----------------------------------------+--------------------+\n",
      "|     1989Q1|Forestry and Mining|  Male|                        13.97|                   16.74|                                           14.18|                                  37.74|                              3.15|                                                      40.9|                          800|                               800|                              9000|                               10700|                                    9400|             6273000|\n",
      "|     1989Q2|Forestry and Mining|  Male|                        14.07|                   16.44|                                           14.24|                                   36.9|                              2.87|                                                     39.77|                          800|                               900|                              8100|                                9800|                                    8600|             5601500|\n",
      "|     1989Q3|Forestry and Mining|  Male|                        14.04|                   16.64|                                           14.23|                                  37.22|                              2.81|                                                     40.03|                          800|                               800|                              7900|                                9500|                                    8300|             5417300|\n",
      "|     1989Q4|Forestry and Mining|  Male|                         14.3|                    16.5|                                           14.48|                                  36.41|                              3.31|                                                     39.72|                          800|                               900|                              7500|                                9200|                                    7900|             5228800|\n",
      "|     1990Q1|Forestry and Mining|  Male|                        14.29|                   16.16|                                           14.42|                                  36.78|                              2.87|                                                     39.65|                          800|                               800|                              7700|                                9400|                                    8100|             5234500|\n",
      "|     1990Q2|Forestry and Mining|  Male|                        14.37|                   17.49|                                            14.6|                                  36.89|                              3.06|                                                     39.96|                          800|                               800|                              7100|                                8800|                                    7500|             5004300|\n",
      "|     1990Q3|Forestry and Mining|  Male|                        14.64|                   18.36|                                           14.88|                                  36.62|                              2.51|                                                     39.13|                          800|                               800|                              7700|                                9300|                                    8100|             5385500|\n",
      "|     1990Q4|Forestry and Mining|  Male|                        14.96|                   17.49|                                           15.16|                                  36.77|                              3.21|                                                     39.97|                          800|                               800|                              7400|                                9000|                                    7800|             5388800|\n",
      "|     1991Q1|Forestry and Mining|  Male|                        14.71|                   17.32|                                           14.89|                                  37.43|                              2.82|                                                     40.25|                          800|                               800|                              8100|                                9700|                                    8500|             5769000|\n",
      "|     1991Q2|Forestry and Mining|  Male|                        15.16|                   17.92|                                           15.35|                                  37.52|                              2.87|                                                     40.39|                          800|                               800|                              7500|                                9100|                                    7800|             5560500|\n",
      "|     1991Q3|Forestry and Mining|  Male|                        15.63|                   18.49|                                           15.82|                                  37.68|                              2.66|                                                     40.34|                          800|                               800|                              7500|                                9100|                                    7800|             5727100|\n",
      "|     1991Q4|Forestry and Mining|  Male|                        16.13|                   18.23|                                           16.29|                                  36.87|                              3.01|                                                     39.88|                          900|                               800|                              7500|                                9200|                                    7900|             5879700|\n",
      "|     1992Q1|Forestry and Mining|  Male|                        15.55|                   17.83|                                           15.73|                                  37.64|                              3.34|                                                     40.98|                          900|                               700|                              8400|                               10000|                                    8800|             6338500|\n",
      "|     1992Q2|Forestry and Mining|  Male|                        15.74|                    18.5|                                           15.98|                                  38.17|                               3.7|                                                     41.87|                          900|                               700|                              7700|                                9200|                                    8000|             5993000|\n",
      "|     1992Q3|Forestry and Mining|  Male|                        15.87|                    18.6|                                           16.09|                                  37.89|                              3.26|                                                     41.16|                          900|                               700|                              7600|                                9300|                                    8000|             5995200|\n",
      "|     1992Q4|Forestry and Mining|  Male|                         15.7|                   18.25|                                           15.91|                                   37.8|                              3.49|                                                     41.29|                          900|                               700|                              7500|                                9200|                                    7900|             5815100|\n",
      "|     1993Q1|Forestry and Mining|  Male|                        15.05|                    18.6|                                           15.31|                                  38.05|                              2.95|                                                      41.0|                         1000|                               700|                              9100|                               10800|                                    9500|             6628800|\n",
      "|     1993Q2|Forestry and Mining|  Male|                         14.9|                   18.94|                                           15.23|                                  37.89|                              3.35|                                                     41.23|                         1000|                               600|                              8300|                                9900|                                    8600|             5956400|\n",
      "|     1993Q3|Forestry and Mining|  Male|                        14.84|                   19.27|                                           15.16|                                  37.69|                              2.93|                                                     40.62|                         1100|                               700|                              8400|                               10100|                                    8700|             5954400|\n",
      "|     1993Q4|Forestry and Mining|  Male|                        15.09|                   17.86|                                           15.32|                                  37.77|                              3.41|                                                     41.18|                         1100|                               700|                              8400|                               10200|                                    8700|             6107000|\n",
      "+-----------+-------------------+------+-----------------------------+------------------------+------------------------------------------------+---------------------------------------+----------------------------------+----------------------------------------------------------+-----------------------------+----------------------------------+----------------------------------+------------------------------------+----------------------------------------+--------------------+\n",
      "only showing top 20 rows\n",
      "\n"
     ]
    }
   ],
   "source": [
    "combined4 = data.join(data1, ['YearQuarter', 'Industry', 'Gender'])\n",
    "combined3 = combined4.join(data2, ['YearQuarter', 'Industry', 'Gender'])\n",
    "combined2 = combined3.join(data3, ['YearQuarter', 'Industry', 'Gender'])\n",
    "combined1 = combined2.join(data4, ['YearQuarter', 'Industry'])\n",
    "combined1.show()"
   ]
  },
  {
   "cell_type": "code",
   "execution_count": 30,
   "metadata": {},
   "outputs": [],
   "source": [
    "combined = combined1.toPandas()"
   ]
  },
  {
   "cell_type": "code",
   "execution_count": 31,
   "metadata": {},
   "outputs": [],
   "source": [
    "combined0 = combined.pivot_table(index=['YearQuarter', 'Industry'], columns='Gender')"
   ]
  },
  {
   "cell_type": "code",
   "execution_count": 32,
   "metadata": {},
   "outputs": [
    {
     "name": "stdout",
     "output_type": "stream",
     "text": [
      "+-------------------+--------------------+------------------------------------------------------------------------+----------------------------------------------------------------------+-----------------------------------------------------+---------------------------------------------------+------------------------------------------------+----------------------------------------------+------------------------------------------------------+----------------------------------------------------+------------------------------------------------+----------------------------------------------+------------------------------------------------+----------------------------------------------+-------------------------------------------+-----------------------------------------+-------------------------------------------+-----------------------------------------+--------------------------------------+------------------------------------+--------------------------------------------------------------+------------------------------------------------------------+----------------------------------+--------------------------------+--------------------------------------------------+------------------------------------------------+\n",
      "|('YearQuarter', '')|    ('Industry', '')|('Average Total (Ordinary Time + Overtime) Weekly Hours Paid', 'Female')|('Average Total (Ordinary Time + Overtime) Weekly Hours Paid', 'Male')|('Average Weekly Ordinary Time Hours Paid', 'Female')|('Average Weekly Ordinary Time Hours Paid', 'Male')|('Average Weekly Overtime Hours Paid', 'Female')|('Average Weekly Overtime Hours Paid', 'Male')|('Number of Full-Time Equivalent Employees', 'Female')|('Number of Full-Time Equivalent Employees', 'Male')|('Number of Full-Time Paid Employees', 'Female')|('Number of Full-Time Paid Employees', 'Male')|('Number of Part-Time Paid Employees', 'Female')|('Number of Part-Time Paid Employees', 'Male')|('Number of Working Proprietors', 'Female')|('Number of Working Proprietors', 'Male')|('Ordinary Time Hourly Earnings', 'Female')|('Ordinary Time Hourly Earnings', 'Male')|('Overtime Hourly Earnings', 'Female')|('Overtime Hourly Earnings', 'Male')|('Total (Ordinary Time + Overtime) Hourly Earnings', 'Female')|('Total (Ordinary Time + Overtime) Hourly Earnings', 'Male')|('Total Gross Earnings', 'Female')|('Total Gross Earnings', 'Male')|('Total Number of People in Employment', 'Female')|('Total Number of People in Employment', 'Male')|\n",
      "+-------------------+--------------------+------------------------------------------------------------------------+----------------------------------------------------------------------+-----------------------------------------------------+---------------------------------------------------+------------------------------------------------+----------------------------------------------+------------------------------------------------------+----------------------------------------------------+------------------------------------------------+----------------------------------------------+------------------------------------------------+----------------------------------------------+-------------------------------------------+-----------------------------------------+-------------------------------------------+-----------------------------------------+--------------------------------------+------------------------------------+--------------------------------------------------------------+------------------------------------------------------------+----------------------------------+--------------------------------+--------------------------------------------------+------------------------------------------------+\n",
      "|             1989Q1|Accommodation and...|                                                                   21.65|                                                                 26.64|                                                20.77|                                              25.58|                                            0.89|                                          1.06|                                                 24800|                                               18400|                                           12300|                                         12800|                                           25200|                                         11300|                                       3900|                                     5000|                                       9.07|                                    10.52|                                 12.26|                               13.05|                                                           9.2|                                                       10.62|                          14269600|                        14269600|                                             41300|                                           29100|\n",
      "|             1989Q1|      All Industries|                                                                   30.16|                                                                 38.22|                                                29.26|                                              35.62|                                            0.91|                                          2.61|                                                421500|                                              563300|                                          331700|                                        533200|                                          179600|                                         60300|                                      31500|                                    76900|                                      11.48|                                    13.91|                                 14.29|                               16.46|                                                         11.56|                                                       14.09|                         497885400|                       497885400|                                            542800|                                          670400|\n",
      "|             1989Q1|Arts, Recreation ...|                                                                   27.67|                                                                 35.82|                                                 27.0|                                              34.38|                                            0.67|                                          1.44|                                                 17200|                                               24800|                                           12100|                                         23100|                                           10000|                                          3400|                                       4300|                                     8800|                                      10.42|                                     13.1|                                 13.45|                               17.26|                                                         10.49|                                                       13.26|                          19038500|                        19038500|                                             26500|                                           35300|\n",
      "|             1989Q1|        Construction|                                                                   27.48|                                                                 42.46|                                                 27.1|                                              38.48|                                            0.38|                                          3.98|                                                  4400|                                               50300|                                            3000|                                         49400|                                            2700|                                          1700|                                       3100|                                    10800|                                      10.61|                                    11.44|                                 15.02|                                15.3|                                                         10.67|                                                       11.81|                          27299800|                        27299800|                                              8900|                                           61900|\n",
      "|             1989Q1|Education and Tra...|                                                                    29.5|                                                                  35.8|                                                29.43|                                              35.67|                                            0.07|                                          0.13|                                                 43000|                                               29200|                                           33400|                                         26700|                                           19300|                                          5000|                                        400|                                      400|                                      14.59|                                     17.8|                                  15.1|                               15.71|                                                         14.59|                                                       17.79|                          42837900|                        42837900|                                             53000|                                           32000|\n",
      "|             1989Q1|Electricity, Gas,...|                                                                   35.12|                                                                 40.51|                                                34.39|                                              37.96|                                            0.73|                                          2.55|                                                  2900|                                               15300|                                            2700|                                         15100|                                             500|                                           400|                                          0|                                      200|                                      11.65|                                    14.02|                                 17.61|                               18.81|                                                         11.77|                                                       14.32|                          10259500|                        10259500|                                              3200|                                           15600|\n",
      "|             1989Q1|Financial and Ins...|                                                                   34.05|                                                                 37.53|                                                33.57|                                              36.93|                                            0.48|                                          0.61|                                                 29700|                                               20000|                                           27100|                                         19700|                                            5400|                                           700|                                        400|                                      900|                                      11.55|                                    17.12|                                 15.48|                               17.75|                                                         11.61|                                                       17.13|                          25892200|                        25892200|                                             32800|                                           21300|\n",
      "|             1989Q1| Forestry and Mining|                                                                   28.49|                                                                  40.9|                                                27.91|                                              37.74|                                            0.59|                                          3.15|                                                  1400|                                                9400|                                            1200|                                          9000|                                             600|                                           800|                                        200|                                      800|                                      11.19|                                    13.97|                                 15.42|                               16.74|                                                         11.28|                                                       14.18|                           6273000|                         6273000|                                              1900|                                           10700|\n",
      "|             1989Q1|Health Care and S...|                                                                   28.08|                                                                 36.15|                                                 27.5|                                              35.04|                                            0.58|                                          1.11|                                                 64400|                                               17200|                                           45400|                                         15700|                                           38000|                                          3100|                                       1200|                                     4200|                                      12.84|                                     16.6|                                 15.62|                               16.83|                                                          12.9|                                                        16.6|                          41481000|                        41481000|                                             84600|                                           23000|\n",
      "|             1989Q1|Information Media...|                                                                   32.92|                                                                 36.29|                                                32.34|                                              34.86|                                            0.58|                                          1.43|                                                 10700|                                               11000|                                            9600|                                         10600|                                            2300|                                           900|                                        100|                                      400|                                      13.98|                                     20.2|                                 17.46|                               21.47|                                                         14.04|                                                       20.25|                          13900800|                        13900800|                                             12000|                                           11800|\n",
      "|             1989Q1|       Manufacturing|                                                                   34.79|                                                                 40.58|                                                33.13|                                              36.68|                                            1.65|                                          3.91|                                                 62300|                                              162200|                                           56400|                                        160000|                                           11900|                                          4500|                                       4500|                                    11700|                                       9.76|                                    12.99|                                 14.22|                               17.14|                                                          9.97|                                                       13.39|                         113051700|                       113051700|                                             72800|                                          176200|\n",
      "|             1989Q1|Professional, Sci...|                                                                   30.02|                                                                 35.47|                                                29.58|                                              34.36|                                            0.44|                                          1.11|                                                 38000|                                               32600|                                           30500|                                         30300|                                           15000|                                          4700|                                       2500|                                    11500|                                      12.57|                                    17.28|                                 15.62|                               17.95|                                                         12.61|                                                        17.3|                          38655300|                        38655300|                                             47900|                                           46500|\n",
      "|             1989Q1|Public Administra...|                                                                   33.82|                                                                  37.9|                                                33.35|                                              36.74|                                            0.47|                                          1.17|                                                 28900|                                               37500|                                           27100|                                         36800|                                            3600|                                          1300|                                        100|                                      200|                                      12.82|                                    16.93|                                 17.01|                               19.36|                                                         12.88|                                                        17.0|                          37938800|                        37938800|                                             30800|                                           38300|\n",
      "|             1989Q1|Rental, Hiring an...|                                                                   31.76|                                                                 36.93|                                                 31.5|                                               36.7|                                            0.26|                                          0.22|                                                  5800|                                                3900|                                            4700|                                          3600|                                            2100|                                           600|                                        500|                                     3000|                                      11.32|                                    14.39|                                 25.14|                               10.19|                                                         11.43|                                                       14.37|                           4721200|                         4721200|                                              7300|                                            7200|\n",
      "|             1989Q1|        Retail Trade|                                                                   26.45|                                                                 31.98|                                                24.51|                                              29.48|                                            1.94|                                           2.5|                                                 49600|                                               44400|                                           32400|                                         36300|                                           34200|                                         16400|                                       7700|                                    10900|                                       8.74|                                     10.3|                                 12.03|                               12.31|                                                          8.98|                                                       10.45|                          33436900|                        33436900|                                             74400|                                           63500|\n",
      "|             1989Q1|Transport, Postal...|                                                                   37.54|                                                                 43.23|                                                 35.7|                                              38.28|                                            1.84|                                          4.95|                                                 17800|                                               43500|                                           15600|                                         41900|                                            4300|                                          3400|                                       1000|                                     3300|                                      10.39|                                    13.16|                                 19.03|                               16.79|                                                         10.81|                                                       13.58|                          34626100|                        34626100|                                             21000|                                           48500|\n",
      "|             1989Q1|     Wholesale Trade|                                                                   34.26|                                                                 39.21|                                                 33.4|                                              37.56|                                            0.87|                                          1.66|                                                 20600|                                               43400|                                           18400|                                         42300|                                            4500|                                          2200|                                       1600|                                     4800|                                      11.52|                                    14.32|                                 14.31|                                15.7|                                                         11.59|                                                       14.38|                          34203100|                        34203100|                                             24400|                                           49400|\n",
      "|             1989Q2|Accommodation and...|                                                                   20.91|                                                                 26.17|                                                20.16|                                              25.25|                                            0.75|                                          0.91|                                                 24500|                                               17800|                                           11200|                                         12100|                                           26500|                                         11300|                                       4000|                                     5100|                                       9.19|                                    10.45|                                 12.68|                               13.11|                                                          9.31|                                                       10.55|                          13800100|                        13800100|                                             41700|                                           28500|\n",
      "|             1989Q2|      All Industries|                                                                   29.57|                                                                 37.77|                                                28.74|                                              35.32|                                            0.83|                                          2.45|                                                417200|                                              554200|                                          323200|                                        522400|                                          188000|                                         63600|                                      32100|                                    76800|                                      11.59|                                    14.05|                                 14.65|                               16.62|                                                         11.68|                                                       14.22|                         491185000|                       491185000|                                            543300|                                          662800|\n",
      "|             1989Q2|Arts, Recreation ...|                                                                   27.31|                                                                 35.68|                                                26.71|                                              34.22|                                             0.6|                                          1.47|                                                 16500|                                               25300|                                           11700|                                         23500|                                            9600|                                          3600|                                       4400|                                     8900|                                      10.57|                                    13.12|                                 13.91|                               16.57|                                                         10.64|                                                       13.27|                          19005900|                        19005900|                                             25700|                                           36000|\n",
      "+-------------------+--------------------+------------------------------------------------------------------------+----------------------------------------------------------------------+-----------------------------------------------------+---------------------------------------------------+------------------------------------------------+----------------------------------------------+------------------------------------------------------+----------------------------------------------------+------------------------------------------------+----------------------------------------------+------------------------------------------------+----------------------------------------------+-------------------------------------------+-----------------------------------------+-------------------------------------------+-----------------------------------------+--------------------------------------+------------------------------------+--------------------------------------------------------------+------------------------------------------------------------+----------------------------------+--------------------------------+--------------------------------------------------+------------------------------------------------+\n",
      "only showing top 20 rows\n",
      "\n"
     ]
    },
    {
     "data": {
      "text/plain": [
       "[(\"('YearQuarter', '')\", 'string'),\n",
       " (\"('Industry', '')\", 'string'),\n",
       " (\"('Average Total (Ordinary Time + Overtime) Weekly Hours Paid', 'Female')\",\n",
       "  'double'),\n",
       " (\"('Average Total (Ordinary Time + Overtime) Weekly Hours Paid', 'Male')\",\n",
       "  'double'),\n",
       " (\"('Average Weekly Ordinary Time Hours Paid', 'Female')\", 'double'),\n",
       " (\"('Average Weekly Ordinary Time Hours Paid', 'Male')\", 'double'),\n",
       " (\"('Average Weekly Overtime Hours Paid', 'Female')\", 'double'),\n",
       " (\"('Average Weekly Overtime Hours Paid', 'Male')\", 'double'),\n",
       " (\"('Number of Full-Time Equivalent Employees', 'Female')\", 'bigint'),\n",
       " (\"('Number of Full-Time Equivalent Employees', 'Male')\", 'bigint'),\n",
       " (\"('Number of Full-Time Paid Employees', 'Female')\", 'bigint'),\n",
       " (\"('Number of Full-Time Paid Employees', 'Male')\", 'bigint'),\n",
       " (\"('Number of Part-Time Paid Employees', 'Female')\", 'bigint'),\n",
       " (\"('Number of Part-Time Paid Employees', 'Male')\", 'bigint'),\n",
       " (\"('Number of Working Proprietors', 'Female')\", 'bigint'),\n",
       " (\"('Number of Working Proprietors', 'Male')\", 'bigint'),\n",
       " (\"('Ordinary Time Hourly Earnings', 'Female')\", 'double'),\n",
       " (\"('Ordinary Time Hourly Earnings', 'Male')\", 'double'),\n",
       " (\"('Overtime Hourly Earnings', 'Female')\", 'double'),\n",
       " (\"('Overtime Hourly Earnings', 'Male')\", 'double'),\n",
       " (\"('Total (Ordinary Time + Overtime) Hourly Earnings', 'Female')\", 'double'),\n",
       " (\"('Total (Ordinary Time + Overtime) Hourly Earnings', 'Male')\", 'double'),\n",
       " (\"('Total Gross Earnings', 'Female')\", 'bigint'),\n",
       " (\"('Total Gross Earnings', 'Male')\", 'bigint'),\n",
       " (\"('Total Number of People in Employment', 'Female')\", 'bigint'),\n",
       " (\"('Total Number of People in Employment', 'Male')\", 'bigint')]"
      ]
     },
     "execution_count": 32,
     "metadata": {},
     "output_type": "execute_result"
    }
   ],
   "source": [
    "df = spark.createDataFrame(combined0.reset_index(drop=False))\n",
    "df.show()\n",
    "df.dtypes"
   ]
  },
  {
   "cell_type": "code",
   "execution_count": 33,
   "metadata": {
    "scrolled": false
   },
   "outputs": [
    {
     "name": "stdout",
     "output_type": "stream",
     "text": [
      "+-----------+--------------------+-----------------------------------------------------+---------------------------------------------------+----------------------------------------+--------------------------------------+------------------------------------+----------------------------------+------------------------------------------+----------------------------------------+------------------------------------+----------------------------------+------------------------------------+----------------------------------+--------------------------------+------------------------------+--------------------------------+------------------------------+----------------------------+--------------------------+---------------------------------------------+-------------------------------------------+------------------------+----------------------+-------------------------------------+-----------------------------------+\n",
      "|YearQuarter|            Industry|AverageTotalOrdinaryTimeOvertimeWeeklyHoursPaidFemale|AverageTotalOrdinaryTimeOvertimeWeeklyHoursPaidMale|AverageWeeklyOrdinaryTimeHoursPaidFemale|AverageWeeklyOrdinaryTimeHoursPaidMale|AverageWeeklyOvertimeHoursPaidFemale|AverageWeeklyOvertimeHoursPaidMale|NumberofFull-TimeEquivalentEmployeesFemale|NumberofFull-TimeEquivalentEmployeesMale|NumberofFull-TimePaidEmployeesFemale|NumberofFull-TimePaidEmployeesMale|NumberofPart-TimePaidEmployeesFemale|NumberofPart-TimePaidEmployeesMale|NumberofWorkingProprietorsFemale|NumberofWorkingProprietorsMale|OrdinaryTimeHourlyEarningsFemale|OrdinaryTimeHourlyEarningsMale|OvertimeHourlyEarningsFemale|OvertimeHourlyEarningsMale|TotalOrdinaryTimeOvertimeHourlyEarningsFemale|TotalOrdinaryTimeOvertimeHourlyEarningsMale|TotalGrossEarningsFemale|TotalGrossEarningsMale|TotalNumberofPeopleinEmploymentFemale|TotalNumberofPeopleinEmploymentMale|\n",
      "+-----------+--------------------+-----------------------------------------------------+---------------------------------------------------+----------------------------------------+--------------------------------------+------------------------------------+----------------------------------+------------------------------------------+----------------------------------------+------------------------------------+----------------------------------+------------------------------------+----------------------------------+--------------------------------+------------------------------+--------------------------------+------------------------------+----------------------------+--------------------------+---------------------------------------------+-------------------------------------------+------------------------+----------------------+-------------------------------------+-----------------------------------+\n",
      "|     1989Q1|Accommodation and...|                                                21.65|                                              26.64|                                   20.77|                                 25.58|                                0.89|                              1.06|                                     24800|                                   18400|                               12300|                             12800|                               25200|                             11300|                            3900|                          5000|                            9.07|                         10.52|                       12.26|                     13.05|                                          9.2|                                      10.62|                14269600|              14269600|                                41300|                              29100|\n",
      "|     1989Q1|      All Industries|                                                30.16|                                              38.22|                                   29.26|                                 35.62|                                0.91|                              2.61|                                    421500|                                  563300|                              331700|                            533200|                              179600|                             60300|                           31500|                         76900|                           11.48|                         13.91|                       14.29|                     16.46|                                        11.56|                                      14.09|               497885400|             497885400|                               542800|                             670400|\n",
      "|     1989Q1|Arts, Recreation ...|                                                27.67|                                              35.82|                                    27.0|                                 34.38|                                0.67|                              1.44|                                     17200|                                   24800|                               12100|                             23100|                               10000|                              3400|                            4300|                          8800|                           10.42|                          13.1|                       13.45|                     17.26|                                        10.49|                                      13.26|                19038500|              19038500|                                26500|                              35300|\n",
      "|     1989Q1|        Construction|                                                27.48|                                              42.46|                                    27.1|                                 38.48|                                0.38|                              3.98|                                      4400|                                   50300|                                3000|                             49400|                                2700|                              1700|                            3100|                         10800|                           10.61|                         11.44|                       15.02|                      15.3|                                        10.67|                                      11.81|                27299800|              27299800|                                 8900|                              61900|\n",
      "|     1989Q1|Education and Tra...|                                                 29.5|                                               35.8|                                   29.43|                                 35.67|                                0.07|                              0.13|                                     43000|                                   29200|                               33400|                             26700|                               19300|                              5000|                             400|                           400|                           14.59|                          17.8|                        15.1|                     15.71|                                        14.59|                                      17.79|                42837900|              42837900|                                53000|                              32000|\n",
      "|     1989Q1|Electricity, Gas,...|                                                35.12|                                              40.51|                                   34.39|                                 37.96|                                0.73|                              2.55|                                      2900|                                   15300|                                2700|                             15100|                                 500|                               400|                               0|                           200|                           11.65|                         14.02|                       17.61|                     18.81|                                        11.77|                                      14.32|                10259500|              10259500|                                 3200|                              15600|\n",
      "|     1989Q1|Financial and Ins...|                                                34.05|                                              37.53|                                   33.57|                                 36.93|                                0.48|                              0.61|                                     29700|                                   20000|                               27100|                             19700|                                5400|                               700|                             400|                           900|                           11.55|                         17.12|                       15.48|                     17.75|                                        11.61|                                      17.13|                25892200|              25892200|                                32800|                              21300|\n",
      "|     1989Q1| Forestry and Mining|                                                28.49|                                               40.9|                                   27.91|                                 37.74|                                0.59|                              3.15|                                      1400|                                    9400|                                1200|                              9000|                                 600|                               800|                             200|                           800|                           11.19|                         13.97|                       15.42|                     16.74|                                        11.28|                                      14.18|                 6273000|               6273000|                                 1900|                              10700|\n",
      "|     1989Q1|Health Care and S...|                                                28.08|                                              36.15|                                    27.5|                                 35.04|                                0.58|                              1.11|                                     64400|                                   17200|                               45400|                             15700|                               38000|                              3100|                            1200|                          4200|                           12.84|                          16.6|                       15.62|                     16.83|                                         12.9|                                       16.6|                41481000|              41481000|                                84600|                              23000|\n",
      "|     1989Q1|Information Media...|                                                32.92|                                              36.29|                                   32.34|                                 34.86|                                0.58|                              1.43|                                     10700|                                   11000|                                9600|                             10600|                                2300|                               900|                             100|                           400|                           13.98|                          20.2|                       17.46|                     21.47|                                        14.04|                                      20.25|                13900800|              13900800|                                12000|                              11800|\n",
      "|     1989Q1|       Manufacturing|                                                34.79|                                              40.58|                                   33.13|                                 36.68|                                1.65|                              3.91|                                     62300|                                  162200|                               56400|                            160000|                               11900|                              4500|                            4500|                         11700|                            9.76|                         12.99|                       14.22|                     17.14|                                         9.97|                                      13.39|               113051700|             113051700|                                72800|                             176200|\n",
      "|     1989Q1|Professional, Sci...|                                                30.02|                                              35.47|                                   29.58|                                 34.36|                                0.44|                              1.11|                                     38000|                                   32600|                               30500|                             30300|                               15000|                              4700|                            2500|                         11500|                           12.57|                         17.28|                       15.62|                     17.95|                                        12.61|                                       17.3|                38655300|              38655300|                                47900|                              46500|\n",
      "|     1989Q1|Public Administra...|                                                33.82|                                               37.9|                                   33.35|                                 36.74|                                0.47|                              1.17|                                     28900|                                   37500|                               27100|                             36800|                                3600|                              1300|                             100|                           200|                           12.82|                         16.93|                       17.01|                     19.36|                                        12.88|                                       17.0|                37938800|              37938800|                                30800|                              38300|\n",
      "|     1989Q1|Rental, Hiring an...|                                                31.76|                                              36.93|                                    31.5|                                  36.7|                                0.26|                              0.22|                                      5800|                                    3900|                                4700|                              3600|                                2100|                               600|                             500|                          3000|                           11.32|                         14.39|                       25.14|                     10.19|                                        11.43|                                      14.37|                 4721200|               4721200|                                 7300|                               7200|\n",
      "|     1989Q1|        Retail Trade|                                                26.45|                                              31.98|                                   24.51|                                 29.48|                                1.94|                               2.5|                                     49600|                                   44400|                               32400|                             36300|                               34200|                             16400|                            7700|                         10900|                            8.74|                          10.3|                       12.03|                     12.31|                                         8.98|                                      10.45|                33436900|              33436900|                                74400|                              63500|\n",
      "|     1989Q1|Transport, Postal...|                                                37.54|                                              43.23|                                    35.7|                                 38.28|                                1.84|                              4.95|                                     17800|                                   43500|                               15600|                             41900|                                4300|                              3400|                            1000|                          3300|                           10.39|                         13.16|                       19.03|                     16.79|                                        10.81|                                      13.58|                34626100|              34626100|                                21000|                              48500|\n",
      "|     1989Q1|     Wholesale Trade|                                                34.26|                                              39.21|                                    33.4|                                 37.56|                                0.87|                              1.66|                                     20600|                                   43400|                               18400|                             42300|                                4500|                              2200|                            1600|                          4800|                           11.52|                         14.32|                       14.31|                      15.7|                                        11.59|                                      14.38|                34203100|              34203100|                                24400|                              49400|\n",
      "|     1989Q2|Accommodation and...|                                                20.91|                                              26.17|                                   20.16|                                 25.25|                                0.75|                              0.91|                                     24500|                                   17800|                               11200|                             12100|                               26500|                             11300|                            4000|                          5100|                            9.19|                         10.45|                       12.68|                     13.11|                                         9.31|                                      10.55|                13800100|              13800100|                                41700|                              28500|\n",
      "|     1989Q2|      All Industries|                                                29.57|                                              37.77|                                   28.74|                                 35.32|                                0.83|                              2.45|                                    417200|                                  554200|                              323200|                            522400|                              188000|                             63600|                           32100|                         76800|                           11.59|                         14.05|                       14.65|                     16.62|                                        11.68|                                      14.22|               491185000|             491185000|                               543300|                             662800|\n",
      "|     1989Q2|Arts, Recreation ...|                                                27.31|                                              35.68|                                   26.71|                                 34.22|                                 0.6|                              1.47|                                     16500|                                   25300|                               11700|                             23500|                                9600|                              3600|                            4400|                          8900|                           10.57|                         13.12|                       13.91|                     16.57|                                        10.64|                                      13.27|                19005900|              19005900|                                25700|                              36000|\n",
      "+-----------+--------------------+-----------------------------------------------------+---------------------------------------------------+----------------------------------------+--------------------------------------+------------------------------------+----------------------------------+------------------------------------------+----------------------------------------+------------------------------------+----------------------------------+------------------------------------+----------------------------------+--------------------------------+------------------------------+--------------------------------+------------------------------+----------------------------+--------------------------+---------------------------------------------+-------------------------------------------+------------------------+----------------------+-------------------------------------+-----------------------------------+\n",
      "only showing top 20 rows\n",
      "\n"
     ]
    }
   ],
   "source": [
    "import re\n",
    "\n",
    "def clean_df_names(df):\n",
    "    l = df.columns\n",
    "    cols = [c.replace(' ','').replace('(','').replace(')','').replace(',', '').replace(\"'\", '').replace(\"+\", '').strip() for c in l]\n",
    "    return df.toDF(*cols)\n",
    "\n",
    "clean_df = clean_df_names(df)\n",
    "\n",
    "clean_df.show()"
   ]
  },
  {
   "cell_type": "code",
   "execution_count": 34,
   "metadata": {},
   "outputs": [
    {
     "data": {
      "text/plain": [
       "[('YearQuarter', 'string'),\n",
       " ('Industry', 'string'),\n",
       " ('AverageTotalOrdinaryTimeOvertimeWeeklyHoursPaidFemale', 'double'),\n",
       " ('AverageTotalOrdinaryTimeOvertimeWeeklyHoursPaidMale', 'double'),\n",
       " ('AverageWeeklyOrdinaryTimeHoursPaidFemale', 'double'),\n",
       " ('AverageWeeklyOrdinaryTimeHoursPaidMale', 'double'),\n",
       " ('AverageWeeklyOvertimeHoursPaidFemale', 'double'),\n",
       " ('AverageWeeklyOvertimeHoursPaidMale', 'double'),\n",
       " ('NumberofFull-TimeEquivalentEmployeesFemale', 'bigint'),\n",
       " ('NumberofFull-TimeEquivalentEmployeesMale', 'bigint'),\n",
       " ('NumberofFull-TimePaidEmployeesFemale', 'bigint'),\n",
       " ('NumberofFull-TimePaidEmployeesMale', 'bigint'),\n",
       " ('NumberofPart-TimePaidEmployeesFemale', 'bigint'),\n",
       " ('NumberofPart-TimePaidEmployeesMale', 'bigint'),\n",
       " ('NumberofWorkingProprietorsFemale', 'bigint'),\n",
       " ('NumberofWorkingProprietorsMale', 'bigint'),\n",
       " ('OrdinaryTimeHourlyEarningsFemale', 'double'),\n",
       " ('OrdinaryTimeHourlyEarningsMale', 'double'),\n",
       " ('OvertimeHourlyEarningsFemale', 'double'),\n",
       " ('OvertimeHourlyEarningsMale', 'double'),\n",
       " ('TotalOrdinaryTimeOvertimeHourlyEarningsFemale', 'double'),\n",
       " ('TotalOrdinaryTimeOvertimeHourlyEarningsMale', 'double'),\n",
       " ('TotalGrossEarningsFemale', 'bigint'),\n",
       " ('TotalGrossEarningsMale', 'bigint'),\n",
       " ('TotalNumberofPeopleinEmploymentFemale', 'bigint'),\n",
       " ('TotalNumberofPeopleinEmploymentMale', 'bigint')]"
      ]
     },
     "execution_count": 34,
     "metadata": {},
     "output_type": "execute_result"
    }
   ],
   "source": [
    "clean_df.dtypes"
   ]
  },
  {
   "cell_type": "code",
   "execution_count": 35,
   "metadata": {},
   "outputs": [
    {
     "name": "stdout",
     "output_type": "stream",
     "text": [
      "+-----------+--------------------+-----------------------------------------------------+---------------------------------------------------+----------------------------------------+--------------------------------------+------------------------------------+----------------------------------+------------------------------------------+----------------------------------------+------------------------------------+----------------------------------+------------------------------------+----------------------------------+--------------------------------+------------------------------+--------------------------------+------------------------------+----------------------------+--------------------------+---------------------------------------------+-------------------------------------------+------------------------+----------------------+-------------------------------------+-----------------------------------+--------------------------+\n",
      "|YearQuarter|            Industry|AverageTotalOrdinaryTimeOvertimeWeeklyHoursPaidFemale|AverageTotalOrdinaryTimeOvertimeWeeklyHoursPaidMale|AverageWeeklyOrdinaryTimeHoursPaidFemale|AverageWeeklyOrdinaryTimeHoursPaidMale|AverageWeeklyOvertimeHoursPaidFemale|AverageWeeklyOvertimeHoursPaidMale|NumberofFull-TimeEquivalentEmployeesFemale|NumberofFull-TimeEquivalentEmployeesMale|NumberofFull-TimePaidEmployeesFemale|NumberofFull-TimePaidEmployeesMale|NumberofPart-TimePaidEmployeesFemale|NumberofPart-TimePaidEmployeesMale|NumberofWorkingProprietorsFemale|NumberofWorkingProprietorsMale|OrdinaryTimeHourlyEarningsFemale|OrdinaryTimeHourlyEarningsMale|OvertimeHourlyEarningsFemale|OvertimeHourlyEarningsMale|TotalOrdinaryTimeOvertimeHourlyEarningsFemale|TotalOrdinaryTimeOvertimeHourlyEarningsMale|TotalGrossEarningsFemale|TotalGrossEarningsMale|TotalNumberofPeopleinEmploymentFemale|TotalNumberofPeopleinEmploymentMale|AverageHourlyPayDifference|\n",
      "+-----------+--------------------+-----------------------------------------------------+---------------------------------------------------+----------------------------------------+--------------------------------------+------------------------------------+----------------------------------+------------------------------------------+----------------------------------------+------------------------------------+----------------------------------+------------------------------------+----------------------------------+--------------------------------+------------------------------+--------------------------------+------------------------------+----------------------------+--------------------------+---------------------------------------------+-------------------------------------------+------------------------+----------------------+-------------------------------------+-----------------------------------+--------------------------+\n",
      "|     1989Q1|Accommodation and...|                                                21.65|                                              26.64|                                   20.77|                                 25.58|                                0.89|                              1.06|                                     24800|                                   18400|                               12300|                             12800|                               25200|                             11300|                            3900|                          5000|                            9.07|                         10.52|                       12.26|                     13.05|                                          9.2|                                      10.62|                14269600|              14269600|                                41300|                              29100|                      1.42|\n",
      "|     1989Q1|      All Industries|                                                30.16|                                              38.22|                                   29.26|                                 35.62|                                0.91|                              2.61|                                    421500|                                  563300|                              331700|                            533200|                              179600|                             60300|                           31500|                         76900|                           11.48|                         13.91|                       14.29|                     16.46|                                        11.56|                                      14.09|               497885400|             497885400|                               542800|                             670400|        2.5299999999999994|\n",
      "|     1989Q1|Arts, Recreation ...|                                                27.67|                                              35.82|                                    27.0|                                 34.38|                                0.67|                              1.44|                                     17200|                                   24800|                               12100|                             23100|                               10000|                              3400|                            4300|                          8800|                           10.42|                          13.1|                       13.45|                     17.26|                                        10.49|                                      13.26|                19038500|              19038500|                                26500|                              35300|        2.7699999999999996|\n",
      "|     1989Q1|        Construction|                                                27.48|                                              42.46|                                    27.1|                                 38.48|                                0.38|                              3.98|                                      4400|                                   50300|                                3000|                             49400|                                2700|                              1700|                            3100|                         10800|                           10.61|                         11.44|                       15.02|                      15.3|                                        10.67|                                      11.81|                27299800|              27299800|                                 8900|                              61900|        1.1400000000000006|\n",
      "|     1989Q1|Education and Tra...|                                                 29.5|                                               35.8|                                   29.43|                                 35.67|                                0.07|                              0.13|                                     43000|                                   29200|                               33400|                             26700|                               19300|                              5000|                             400|                           400|                           14.59|                          17.8|                        15.1|                     15.71|                                        14.59|                                      17.79|                42837900|              42837900|                                53000|                              32000|        3.1999999999999993|\n",
      "|     1989Q1|Electricity, Gas,...|                                                35.12|                                              40.51|                                   34.39|                                 37.96|                                0.73|                              2.55|                                      2900|                                   15300|                                2700|                             15100|                                 500|                               400|                               0|                           200|                           11.65|                         14.02|                       17.61|                     18.81|                                        11.77|                                      14.32|                10259500|              10259500|                                 3200|                              15600|        2.5500000000000007|\n",
      "|     1989Q1|Financial and Ins...|                                                34.05|                                              37.53|                                   33.57|                                 36.93|                                0.48|                              0.61|                                     29700|                                   20000|                               27100|                             19700|                                5400|                               700|                             400|                           900|                           11.55|                         17.12|                       15.48|                     17.75|                                        11.61|                                      17.13|                25892200|              25892200|                                32800|                              21300|                      5.52|\n",
      "|     1989Q1| Forestry and Mining|                                                28.49|                                               40.9|                                   27.91|                                 37.74|                                0.59|                              3.15|                                      1400|                                    9400|                                1200|                              9000|                                 600|                               800|                             200|                           800|                           11.19|                         13.97|                       15.42|                     16.74|                                        11.28|                                      14.18|                 6273000|               6273000|                                 1900|                              10700|        2.9000000000000004|\n",
      "|     1989Q1|Health Care and S...|                                                28.08|                                              36.15|                                    27.5|                                 35.04|                                0.58|                              1.11|                                     64400|                                   17200|                               45400|                             15700|                               38000|                              3100|                            1200|                          4200|                           12.84|                          16.6|                       15.62|                     16.83|                                         12.9|                                       16.6|                41481000|              41481000|                                84600|                              23000|         3.700000000000001|\n",
      "|     1989Q1|Information Media...|                                                32.92|                                              36.29|                                   32.34|                                 34.86|                                0.58|                              1.43|                                     10700|                                   11000|                                9600|                             10600|                                2300|                               900|                             100|                           400|                           13.98|                          20.2|                       17.46|                     21.47|                                        14.04|                                      20.25|                13900800|              13900800|                                12000|                              11800|         6.210000000000001|\n",
      "|     1989Q1|       Manufacturing|                                                34.79|                                              40.58|                                   33.13|                                 36.68|                                1.65|                              3.91|                                     62300|                                  162200|                               56400|                            160000|                               11900|                              4500|                            4500|                         11700|                            9.76|                         12.99|                       14.22|                     17.14|                                         9.97|                                      13.39|               113051700|             113051700|                                72800|                             176200|                      3.42|\n",
      "|     1989Q1|Professional, Sci...|                                                30.02|                                              35.47|                                   29.58|                                 34.36|                                0.44|                              1.11|                                     38000|                                   32600|                               30500|                             30300|                               15000|                              4700|                            2500|                         11500|                           12.57|                         17.28|                       15.62|                     17.95|                                        12.61|                                       17.3|                38655300|              38655300|                                47900|                              46500|         4.690000000000001|\n",
      "|     1989Q1|Public Administra...|                                                33.82|                                               37.9|                                   33.35|                                 36.74|                                0.47|                              1.17|                                     28900|                                   37500|                               27100|                             36800|                                3600|                              1300|                             100|                           200|                           12.82|                         16.93|                       17.01|                     19.36|                                        12.88|                                       17.0|                37938800|              37938800|                                30800|                              38300|         4.119999999999999|\n",
      "|     1989Q1|Rental, Hiring an...|                                                31.76|                                              36.93|                                    31.5|                                  36.7|                                0.26|                              0.22|                                      5800|                                    3900|                                4700|                              3600|                                2100|                               600|                             500|                          3000|                           11.32|                         14.39|                       25.14|                     10.19|                                        11.43|                                      14.37|                 4721200|               4721200|                                 7300|                               7200|        2.9399999999999995|\n",
      "|     1989Q1|        Retail Trade|                                                26.45|                                              31.98|                                   24.51|                                 29.48|                                1.94|                               2.5|                                     49600|                                   44400|                               32400|                             36300|                               34200|                             16400|                            7700|                         10900|                            8.74|                          10.3|                       12.03|                     12.31|                                         8.98|                                      10.45|                33436900|              33436900|                                74400|                              63500|        1.4699999999999989|\n",
      "|     1989Q1|Transport, Postal...|                                                37.54|                                              43.23|                                    35.7|                                 38.28|                                1.84|                              4.95|                                     17800|                                   43500|                               15600|                             41900|                                4300|                              3400|                            1000|                          3300|                           10.39|                         13.16|                       19.03|                     16.79|                                        10.81|                                      13.58|                34626100|              34626100|                                21000|                              48500|        2.7699999999999996|\n",
      "|     1989Q1|     Wholesale Trade|                                                34.26|                                              39.21|                                    33.4|                                 37.56|                                0.87|                              1.66|                                     20600|                                   43400|                               18400|                             42300|                                4500|                              2200|                            1600|                          4800|                           11.52|                         14.32|                       14.31|                      15.7|                                        11.59|                                      14.38|                34203100|              34203100|                                24400|                              49400|         2.790000000000001|\n",
      "|     1989Q2|Accommodation and...|                                                20.91|                                              26.17|                                   20.16|                                 25.25|                                0.75|                              0.91|                                     24500|                                   17800|                               11200|                             12100|                               26500|                             11300|                            4000|                          5100|                            9.19|                         10.45|                       12.68|                     13.11|                                         9.31|                                      10.55|                13800100|              13800100|                                41700|                              28500|        1.2400000000000002|\n",
      "|     1989Q2|      All Industries|                                                29.57|                                              37.77|                                   28.74|                                 35.32|                                0.83|                              2.45|                                    417200|                                  554200|                              323200|                            522400|                              188000|                             63600|                           32100|                         76800|                           11.59|                         14.05|                       14.65|                     16.62|                                        11.68|                                      14.22|               491185000|             491185000|                               543300|                             662800|         2.540000000000001|\n",
      "|     1989Q2|Arts, Recreation ...|                                                27.31|                                              35.68|                                   26.71|                                 34.22|                                 0.6|                              1.47|                                     16500|                                   25300|                               11700|                             23500|                                9600|                              3600|                            4400|                          8900|                           10.57|                         13.12|                       13.91|                     16.57|                                        10.64|                                      13.27|                19005900|              19005900|                                25700|                              36000|         2.629999999999999|\n",
      "+-----------+--------------------+-----------------------------------------------------+---------------------------------------------------+----------------------------------------+--------------------------------------+------------------------------------+----------------------------------+------------------------------------------+----------------------------------------+------------------------------------+----------------------------------+------------------------------------+----------------------------------+--------------------------------+------------------------------+--------------------------------+------------------------------+----------------------------+--------------------------+---------------------------------------------+-------------------------------------------+------------------------+----------------------+-------------------------------------+-----------------------------------+--------------------------+\n",
      "only showing top 20 rows\n",
      "\n"
     ]
    }
   ],
   "source": [
    "new_df = clean_df.withColumn(\"AverageHourlyPayDifference\" , clean_df['TotalOrdinaryTimeOvertimeHourlyEarningsMale'] - clean_df['TotalOrdinaryTimeOvertimeHourlyEarningsFemale'])\n",
    "new_df.show()"
   ]
  },
  {
   "cell_type": "code",
   "execution_count": 36,
   "metadata": {},
   "outputs": [],
   "source": [
    "from pyspark.ml.linalg import Vectors\n",
    "from pyspark.ml.feature import VectorAssembler\n",
    "from pyspark.ml.feature import StringIndexer"
   ]
  },
  {
   "cell_type": "code",
   "execution_count": 37,
   "metadata": {
    "scrolled": true
   },
   "outputs": [
    {
     "ename": "TypeError",
     "evalue": "Invalid param value given for param \"inputCols\". Could not convert DataFrame[AverageTotalOrdinaryTimeOvertimeWeeklyHoursPaidFemale: double, AverageTotalOrdinaryTimeOvertimeWeeklyHoursPaidMale: double, AverageWeeklyOrdinaryTimeHoursPaidFemale: double, AverageWeeklyOrdinaryTimeHoursPaidMale: double, AverageWeeklyOvertimeHoursPaidFemale: double, AverageWeeklyOvertimeHoursPaidMale: double, NumberofFull-TimeEquivalentEmployeesFemale: bigint, NumberofFull-TimeEquivalentEmployeesMale: bigint, NumberofFull-TimePaidEmployeesFemale: bigint, NumberofFull-TimePaidEmployeesMale: bigint, NumberofPart-TimePaidEmployeesFemale: bigint, NumberofPart-TimePaidEmployeesMale: bigint, NumberofWorkingProprietorsFemale: bigint, NumberofWorkingProprietorsMale: bigint, OrdinaryTimeHourlyEarningsFemale: double, OrdinaryTimeHourlyEarningsMale: double, OvertimeHourlyEarningsFemale: double, OvertimeHourlyEarningsMale: double, TotalOrdinaryTimeOvertimeHourlyEarningsFemale: double, TotalOrdinaryTimeOvertimeHourlyEarningsMale: double, TotalGrossEarningsFemale: bigint, TotalGrossEarningsMale: bigint, TotalNumberofPeopleinEmploymentFemale: bigint, TotalNumberofPeopleinEmploymentMale: bigint] to list of strings",
     "output_type": "error",
     "traceback": [
      "\u001b[0;31m---------------------------------------------------------------------------\u001b[0m",
      "\u001b[0;31mTypeError\u001b[0m                                 Traceback (most recent call last)",
      "\u001b[0;32m~/spark-2.1.1-bin-hadoop2.7/python/pyspark/ml/param/__init__.py\u001b[0m in \u001b[0;36m_set\u001b[0;34m(self, **kwargs)\u001b[0m\n\u001b[1;32m    431\u001b[0m                 \u001b[0;32mtry\u001b[0m\u001b[0;34m:\u001b[0m\u001b[0;34m\u001b[0m\u001b[0m\n\u001b[0;32m--> 432\u001b[0;31m                     \u001b[0mvalue\u001b[0m \u001b[0;34m=\u001b[0m \u001b[0mp\u001b[0m\u001b[0;34m.\u001b[0m\u001b[0mtypeConverter\u001b[0m\u001b[0;34m(\u001b[0m\u001b[0mvalue\u001b[0m\u001b[0;34m)\u001b[0m\u001b[0;34m\u001b[0m\u001b[0m\n\u001b[0m\u001b[1;32m    433\u001b[0m                 \u001b[0;32mexcept\u001b[0m \u001b[0mTypeError\u001b[0m \u001b[0;32mas\u001b[0m \u001b[0me\u001b[0m\u001b[0;34m:\u001b[0m\u001b[0;34m\u001b[0m\u001b[0m\n",
      "\u001b[0;32m~/spark-2.1.1-bin-hadoop2.7/python/pyspark/ml/param/__init__.py\u001b[0m in \u001b[0;36mtoListString\u001b[0;34m(value)\u001b[0m\n\u001b[1;32m    158\u001b[0m                 \u001b[0;32mreturn\u001b[0m \u001b[0;34m[\u001b[0m\u001b[0mTypeConverters\u001b[0m\u001b[0;34m.\u001b[0m\u001b[0mtoString\u001b[0m\u001b[0;34m(\u001b[0m\u001b[0mv\u001b[0m\u001b[0;34m)\u001b[0m \u001b[0;32mfor\u001b[0m \u001b[0mv\u001b[0m \u001b[0;32min\u001b[0m \u001b[0mvalue\u001b[0m\u001b[0;34m]\u001b[0m\u001b[0;34m\u001b[0m\u001b[0m\n\u001b[0;32m--> 159\u001b[0;31m         \u001b[0;32mraise\u001b[0m \u001b[0mTypeError\u001b[0m\u001b[0;34m(\u001b[0m\u001b[0;34m\"Could not convert %s to list of strings\"\u001b[0m \u001b[0;34m%\u001b[0m \u001b[0mvalue\u001b[0m\u001b[0;34m)\u001b[0m\u001b[0;34m\u001b[0m\u001b[0m\n\u001b[0m\u001b[1;32m    160\u001b[0m \u001b[0;34m\u001b[0m\u001b[0m\n",
      "\u001b[0;31mTypeError\u001b[0m: Could not convert DataFrame[AverageTotalOrdinaryTimeOvertimeWeeklyHoursPaidFemale: double, AverageTotalOrdinaryTimeOvertimeWeeklyHoursPaidMale: double, AverageWeeklyOrdinaryTimeHoursPaidFemale: double, AverageWeeklyOrdinaryTimeHoursPaidMale: double, AverageWeeklyOvertimeHoursPaidFemale: double, AverageWeeklyOvertimeHoursPaidMale: double, NumberofFull-TimeEquivalentEmployeesFemale: bigint, NumberofFull-TimeEquivalentEmployeesMale: bigint, NumberofFull-TimePaidEmployeesFemale: bigint, NumberofFull-TimePaidEmployeesMale: bigint, NumberofPart-TimePaidEmployeesFemale: bigint, NumberofPart-TimePaidEmployeesMale: bigint, NumberofWorkingProprietorsFemale: bigint, NumberofWorkingProprietorsMale: bigint, OrdinaryTimeHourlyEarningsFemale: double, OrdinaryTimeHourlyEarningsMale: double, OvertimeHourlyEarningsFemale: double, OvertimeHourlyEarningsMale: double, TotalOrdinaryTimeOvertimeHourlyEarningsFemale: double, TotalOrdinaryTimeOvertimeHourlyEarningsMale: double, TotalGrossEarningsFemale: bigint, TotalGrossEarningsMale: bigint, TotalNumberofPeopleinEmploymentFemale: bigint, TotalNumberofPeopleinEmploymentMale: bigint] to list of strings",
      "\nDuring handling of the above exception, another exception occurred:\n",
      "\u001b[0;31mTypeError\u001b[0m                                 Traceback (most recent call last)",
      "\u001b[0;32m<ipython-input-37-13b788b26676>\u001b[0m in \u001b[0;36m<module>\u001b[0;34m()\u001b[0m\n\u001b[1;32m      2\u001b[0m \u001b[0;32mfrom\u001b[0m \u001b[0mpyspark\u001b[0m\u001b[0;34m.\u001b[0m\u001b[0mml\u001b[0m\u001b[0;34m.\u001b[0m\u001b[0mfeature\u001b[0m \u001b[0;32mimport\u001b[0m \u001b[0mVectorAssembler\u001b[0m\u001b[0;34m\u001b[0m\u001b[0m\n\u001b[1;32m      3\u001b[0m \u001b[0;34m\u001b[0m\u001b[0m\n\u001b[0;32m----> 4\u001b[0;31m \u001b[0massembler\u001b[0m \u001b[0;34m=\u001b[0m \u001b[0mVectorAssembler\u001b[0m\u001b[0;34m(\u001b[0m\u001b[0minputCols\u001b[0m\u001b[0;34m=\u001b[0m\u001b[0mnew_df\u001b[0m\u001b[0;34m[\u001b[0m\u001b[0;34m'AverageTotalOrdinaryTimeOvertimeWeeklyHoursPaidFemale'\u001b[0m\u001b[0;34m,\u001b[0m\u001b[0;34m'AverageTotalOrdinaryTimeOvertimeWeeklyHoursPaidMale'\u001b[0m\u001b[0;34m,\u001b[0m\u001b[0;34m'AverageWeeklyOrdinaryTimeHoursPaidFemale'\u001b[0m\u001b[0;34m,\u001b[0m\u001b[0;34m'AverageWeeklyOrdinaryTimeHoursPaidMale'\u001b[0m\u001b[0;34m,\u001b[0m\u001b[0;34m'AverageWeeklyOvertimeHoursPaidFemale'\u001b[0m\u001b[0;34m,\u001b[0m\u001b[0;34m'AverageWeeklyOvertimeHoursPaidMale'\u001b[0m\u001b[0;34m,\u001b[0m\u001b[0;34m'NumberofFull-TimeEquivalentEmployeesFemale'\u001b[0m\u001b[0;34m,\u001b[0m\u001b[0;34m'NumberofFull-TimeEquivalentEmployeesMale'\u001b[0m\u001b[0;34m,\u001b[0m\u001b[0;34m'NumberofFull-TimePaidEmployeesFemale'\u001b[0m\u001b[0;34m,\u001b[0m\u001b[0;34m'NumberofFull-TimePaidEmployeesMale'\u001b[0m\u001b[0;34m,\u001b[0m\u001b[0;34m'NumberofPart-TimePaidEmployeesFemale'\u001b[0m\u001b[0;34m,\u001b[0m\u001b[0;34m'NumberofPart-TimePaidEmployeesMale'\u001b[0m\u001b[0;34m,\u001b[0m\u001b[0;34m'NumberofWorkingProprietorsFemale'\u001b[0m\u001b[0;34m,\u001b[0m\u001b[0;34m'NumberofWorkingProprietorsMale'\u001b[0m\u001b[0;34m,\u001b[0m\u001b[0;34m'OrdinaryTimeHourlyEarningsFemale'\u001b[0m\u001b[0;34m,\u001b[0m\u001b[0;34m'OrdinaryTimeHourlyEarningsMale'\u001b[0m\u001b[0;34m,\u001b[0m\u001b[0;34m'OvertimeHourlyEarningsFemale'\u001b[0m\u001b[0;34m,\u001b[0m\u001b[0;34m'OvertimeHourlyEarningsMale'\u001b[0m\u001b[0;34m,\u001b[0m\u001b[0;34m'TotalOrdinaryTimeOvertimeHourlyEarningsFemale'\u001b[0m\u001b[0;34m,\u001b[0m\u001b[0;34m'TotalOrdinaryTimeOvertimeHourlyEarningsMale'\u001b[0m\u001b[0;34m,\u001b[0m\u001b[0;34m'TotalGrossEarningsFemale'\u001b[0m\u001b[0;34m,\u001b[0m\u001b[0;34m'TotalGrossEarningsMale'\u001b[0m\u001b[0;34m,\u001b[0m\u001b[0;34m'TotalNumberofPeopleinEmploymentFemale'\u001b[0m\u001b[0;34m,\u001b[0m\u001b[0;34m'TotalNumberofPeopleinEmploymentMale'\u001b[0m\u001b[0;34m]\u001b[0m\u001b[0;34m,\u001b[0m\u001b[0moutputCol\u001b[0m\u001b[0;34m=\u001b[0m\u001b[0;34m'features'\u001b[0m\u001b[0;34m)\u001b[0m\u001b[0;34m\u001b[0m\u001b[0m\n\u001b[0m\u001b[1;32m      5\u001b[0m \u001b[0moutput\u001b[0m \u001b[0;34m=\u001b[0m \u001b[0massembler\u001b[0m\u001b[0;34m.\u001b[0m\u001b[0mtransform\u001b[0m\u001b[0;34m(\u001b[0m\u001b[0mdata\u001b[0m\u001b[0;34m)\u001b[0m\u001b[0;34m\u001b[0m\u001b[0m\n",
      "\u001b[0;32m~/spark-2.1.1-bin-hadoop2.7/python/pyspark/__init__.py\u001b[0m in \u001b[0;36mwrapper\u001b[0;34m(self, *args, **kwargs)\u001b[0m\n\u001b[1;32m     99\u001b[0m             \u001b[0;32mraise\u001b[0m \u001b[0mTypeError\u001b[0m\u001b[0;34m(\u001b[0m\u001b[0;34m\"Method %s forces keyword arguments.\"\u001b[0m \u001b[0;34m%\u001b[0m \u001b[0mfunc\u001b[0m\u001b[0;34m.\u001b[0m\u001b[0m__name__\u001b[0m\u001b[0;34m)\u001b[0m\u001b[0;34m\u001b[0m\u001b[0m\n\u001b[1;32m    100\u001b[0m         \u001b[0mself\u001b[0m\u001b[0;34m.\u001b[0m\u001b[0m_input_kwargs\u001b[0m \u001b[0;34m=\u001b[0m \u001b[0mkwargs\u001b[0m\u001b[0;34m\u001b[0m\u001b[0m\n\u001b[0;32m--> 101\u001b[0;31m         \u001b[0;32mreturn\u001b[0m \u001b[0mfunc\u001b[0m\u001b[0;34m(\u001b[0m\u001b[0mself\u001b[0m\u001b[0;34m,\u001b[0m \u001b[0;34m**\u001b[0m\u001b[0mkwargs\u001b[0m\u001b[0;34m)\u001b[0m\u001b[0;34m\u001b[0m\u001b[0m\n\u001b[0m\u001b[1;32m    102\u001b[0m     \u001b[0;32mreturn\u001b[0m \u001b[0mwrapper\u001b[0m\u001b[0;34m\u001b[0m\u001b[0m\n\u001b[1;32m    103\u001b[0m \u001b[0;34m\u001b[0m\u001b[0m\n",
      "\u001b[0;32m~/spark-2.1.1-bin-hadoop2.7/python/pyspark/ml/feature.py\u001b[0m in \u001b[0;36m__init__\u001b[0;34m(self, inputCols, outputCol)\u001b[0m\n\u001b[1;32m   1923\u001b[0m         \u001b[0mself\u001b[0m\u001b[0;34m.\u001b[0m\u001b[0m_java_obj\u001b[0m \u001b[0;34m=\u001b[0m \u001b[0mself\u001b[0m\u001b[0;34m.\u001b[0m\u001b[0m_new_java_obj\u001b[0m\u001b[0;34m(\u001b[0m\u001b[0;34m\"org.apache.spark.ml.feature.VectorAssembler\"\u001b[0m\u001b[0;34m,\u001b[0m \u001b[0mself\u001b[0m\u001b[0;34m.\u001b[0m\u001b[0muid\u001b[0m\u001b[0;34m)\u001b[0m\u001b[0;34m\u001b[0m\u001b[0m\n\u001b[1;32m   1924\u001b[0m         \u001b[0mkwargs\u001b[0m \u001b[0;34m=\u001b[0m \u001b[0mself\u001b[0m\u001b[0;34m.\u001b[0m\u001b[0m_input_kwargs\u001b[0m\u001b[0;34m\u001b[0m\u001b[0m\n\u001b[0;32m-> 1925\u001b[0;31m         \u001b[0mself\u001b[0m\u001b[0;34m.\u001b[0m\u001b[0msetParams\u001b[0m\u001b[0;34m(\u001b[0m\u001b[0;34m**\u001b[0m\u001b[0mkwargs\u001b[0m\u001b[0;34m)\u001b[0m\u001b[0;34m\u001b[0m\u001b[0m\n\u001b[0m\u001b[1;32m   1926\u001b[0m \u001b[0;34m\u001b[0m\u001b[0m\n\u001b[1;32m   1927\u001b[0m     \u001b[0;34m@\u001b[0m\u001b[0mkeyword_only\u001b[0m\u001b[0;34m\u001b[0m\u001b[0m\n",
      "\u001b[0;32m~/spark-2.1.1-bin-hadoop2.7/python/pyspark/__init__.py\u001b[0m in \u001b[0;36mwrapper\u001b[0;34m(self, *args, **kwargs)\u001b[0m\n\u001b[1;32m     99\u001b[0m             \u001b[0;32mraise\u001b[0m \u001b[0mTypeError\u001b[0m\u001b[0;34m(\u001b[0m\u001b[0;34m\"Method %s forces keyword arguments.\"\u001b[0m \u001b[0;34m%\u001b[0m \u001b[0mfunc\u001b[0m\u001b[0;34m.\u001b[0m\u001b[0m__name__\u001b[0m\u001b[0;34m)\u001b[0m\u001b[0;34m\u001b[0m\u001b[0m\n\u001b[1;32m    100\u001b[0m         \u001b[0mself\u001b[0m\u001b[0;34m.\u001b[0m\u001b[0m_input_kwargs\u001b[0m \u001b[0;34m=\u001b[0m \u001b[0mkwargs\u001b[0m\u001b[0;34m\u001b[0m\u001b[0m\n\u001b[0;32m--> 101\u001b[0;31m         \u001b[0;32mreturn\u001b[0m \u001b[0mfunc\u001b[0m\u001b[0;34m(\u001b[0m\u001b[0mself\u001b[0m\u001b[0;34m,\u001b[0m \u001b[0;34m**\u001b[0m\u001b[0mkwargs\u001b[0m\u001b[0;34m)\u001b[0m\u001b[0;34m\u001b[0m\u001b[0m\n\u001b[0m\u001b[1;32m    102\u001b[0m     \u001b[0;32mreturn\u001b[0m \u001b[0mwrapper\u001b[0m\u001b[0;34m\u001b[0m\u001b[0m\n\u001b[1;32m    103\u001b[0m \u001b[0;34m\u001b[0m\u001b[0m\n",
      "\u001b[0;32m~/spark-2.1.1-bin-hadoop2.7/python/pyspark/ml/feature.py\u001b[0m in \u001b[0;36msetParams\u001b[0;34m(self, inputCols, outputCol)\u001b[0m\n\u001b[1;32m   1933\u001b[0m         \"\"\"\n\u001b[1;32m   1934\u001b[0m         \u001b[0mkwargs\u001b[0m \u001b[0;34m=\u001b[0m \u001b[0mself\u001b[0m\u001b[0;34m.\u001b[0m\u001b[0m_input_kwargs\u001b[0m\u001b[0;34m\u001b[0m\u001b[0m\n\u001b[0;32m-> 1935\u001b[0;31m         \u001b[0;32mreturn\u001b[0m \u001b[0mself\u001b[0m\u001b[0;34m.\u001b[0m\u001b[0m_set\u001b[0m\u001b[0;34m(\u001b[0m\u001b[0;34m**\u001b[0m\u001b[0mkwargs\u001b[0m\u001b[0;34m)\u001b[0m\u001b[0;34m\u001b[0m\u001b[0m\n\u001b[0m\u001b[1;32m   1936\u001b[0m \u001b[0;34m\u001b[0m\u001b[0m\n\u001b[1;32m   1937\u001b[0m \u001b[0;34m\u001b[0m\u001b[0m\n",
      "\u001b[0;32m~/spark-2.1.1-bin-hadoop2.7/python/pyspark/ml/param/__init__.py\u001b[0m in \u001b[0;36m_set\u001b[0;34m(self, **kwargs)\u001b[0m\n\u001b[1;32m    432\u001b[0m                     \u001b[0mvalue\u001b[0m \u001b[0;34m=\u001b[0m \u001b[0mp\u001b[0m\u001b[0;34m.\u001b[0m\u001b[0mtypeConverter\u001b[0m\u001b[0;34m(\u001b[0m\u001b[0mvalue\u001b[0m\u001b[0;34m)\u001b[0m\u001b[0;34m\u001b[0m\u001b[0m\n\u001b[1;32m    433\u001b[0m                 \u001b[0;32mexcept\u001b[0m \u001b[0mTypeError\u001b[0m \u001b[0;32mas\u001b[0m \u001b[0me\u001b[0m\u001b[0;34m:\u001b[0m\u001b[0;34m\u001b[0m\u001b[0m\n\u001b[0;32m--> 434\u001b[0;31m                     \u001b[0;32mraise\u001b[0m \u001b[0mTypeError\u001b[0m\u001b[0;34m(\u001b[0m\u001b[0;34m'Invalid param value given for param \"%s\". %s'\u001b[0m \u001b[0;34m%\u001b[0m \u001b[0;34m(\u001b[0m\u001b[0mp\u001b[0m\u001b[0;34m.\u001b[0m\u001b[0mname\u001b[0m\u001b[0;34m,\u001b[0m \u001b[0me\u001b[0m\u001b[0;34m)\u001b[0m\u001b[0;34m)\u001b[0m\u001b[0;34m\u001b[0m\u001b[0m\n\u001b[0m\u001b[1;32m    435\u001b[0m             \u001b[0mself\u001b[0m\u001b[0;34m.\u001b[0m\u001b[0m_paramMap\u001b[0m\u001b[0;34m[\u001b[0m\u001b[0mp\u001b[0m\u001b[0;34m]\u001b[0m \u001b[0;34m=\u001b[0m \u001b[0mvalue\u001b[0m\u001b[0;34m\u001b[0m\u001b[0m\n\u001b[1;32m    436\u001b[0m         \u001b[0;32mreturn\u001b[0m \u001b[0mself\u001b[0m\u001b[0;34m\u001b[0m\u001b[0m\n",
      "\u001b[0;31mTypeError\u001b[0m: Invalid param value given for param \"inputCols\". Could not convert DataFrame[AverageTotalOrdinaryTimeOvertimeWeeklyHoursPaidFemale: double, AverageTotalOrdinaryTimeOvertimeWeeklyHoursPaidMale: double, AverageWeeklyOrdinaryTimeHoursPaidFemale: double, AverageWeeklyOrdinaryTimeHoursPaidMale: double, AverageWeeklyOvertimeHoursPaidFemale: double, AverageWeeklyOvertimeHoursPaidMale: double, NumberofFull-TimeEquivalentEmployeesFemale: bigint, NumberofFull-TimeEquivalentEmployeesMale: bigint, NumberofFull-TimePaidEmployeesFemale: bigint, NumberofFull-TimePaidEmployeesMale: bigint, NumberofPart-TimePaidEmployeesFemale: bigint, NumberofPart-TimePaidEmployeesMale: bigint, NumberofWorkingProprietorsFemale: bigint, NumberofWorkingProprietorsMale: bigint, OrdinaryTimeHourlyEarningsFemale: double, OrdinaryTimeHourlyEarningsMale: double, OvertimeHourlyEarningsFemale: double, OvertimeHourlyEarningsMale: double, TotalOrdinaryTimeOvertimeHourlyEarningsFemale: double, TotalOrdinaryTimeOvertimeHourlyEarningsMale: double, TotalGrossEarningsFemale: bigint, TotalGrossEarningsMale: bigint, TotalNumberofPeopleinEmploymentFemale: bigint, TotalNumberofPeopleinEmploymentMale: bigint] to list of strings"
     ]
    }
   ],
   "source": [
    "from pyspark.ml.linalg import Vectors\n",
    "from pyspark.ml.feature import VectorAssembler\n",
    "\n",
    "assembler = VectorAssembler(inputCols=new_df['AverageTotalOrdinaryTimeOvertimeWeeklyHoursPaidFemale','AverageTotalOrdinaryTimeOvertimeWeeklyHoursPaidMale','AverageWeeklyOrdinaryTimeHoursPaidFemale','AverageWeeklyOrdinaryTimeHoursPaidMale','AverageWeeklyOvertimeHoursPaidFemale','AverageWeeklyOvertimeHoursPaidMale','NumberofFull-TimeEquivalentEmployeesFemale','NumberofFull-TimeEquivalentEmployeesMale','NumberofFull-TimePaidEmployeesFemale','NumberofFull-TimePaidEmployeesMale','NumberofPart-TimePaidEmployeesFemale','NumberofPart-TimePaidEmployeesMale','NumberofWorkingProprietorsFemale','NumberofWorkingProprietorsMale','OrdinaryTimeHourlyEarningsFemale','OrdinaryTimeHourlyEarningsMale','OvertimeHourlyEarningsFemale','OvertimeHourlyEarningsMale','TotalOrdinaryTimeOvertimeHourlyEarningsFemale','TotalOrdinaryTimeOvertimeHourlyEarningsMale','TotalGrossEarningsFemale','TotalGrossEarningsMale','TotalNumberofPeopleinEmploymentFemale','TotalNumberofPeopleinEmploymentMale'],outputCol='features')\n",
    "output = assembler.transform(data)"
   ]
  },
  {
   "cell_type": "code",
   "execution_count": null,
   "metadata": {},
   "outputs": [],
   "source": [
    "final_data = output.select(\"features\",'AverageHourlyPayDifference')"
   ]
  },
  {
   "cell_type": "code",
   "execution_count": null,
   "metadata": {},
   "outputs": [],
   "source": [
    "train_data,test_data = final_data.randomSplit([0.7,0.3])"
   ]
  },
  {
   "cell_type": "code",
   "execution_count": null,
   "metadata": {},
   "outputs": [],
   "source": [
    "from pyspark.ml.classification import DecisionTreeClassifier,GBTClassifier,RandomForestClassifier\n",
    "from pyspark.ml import Pipeline\n",
    "\n",
    "dtc = DecisionTreeClassifier(labelCol='AverageHourlyPayDifference',featuresCol='features')\n",
    "rfc = RandomForestClassifier(labelCol='AverageHourlyPayDifference',featuresCol='features')\n",
    "gbt = GBTClassifier(labelCol='AverageHourlyPayDifference',featuresCol='features')"
   ]
  },
  {
   "cell_type": "code",
   "execution_count": null,
   "metadata": {},
   "outputs": [],
   "source": [
    "pipeline = Pipeline(stages=[industry_indexer,\n",
    "                           assembler,lr])"
   ]
  },
  {
   "cell_type": "code",
   "execution_count": null,
   "metadata": {},
   "outputs": [],
   "source": [
    "dtc_model = dtc.fit(train_data)\n",
    "rfc_model = rfc.fit(train_data)\n",
    "gbt_model = gbt.fit(train_data)"
   ]
  },
  {
   "cell_type": "code",
   "execution_count": null,
   "metadata": {},
   "outputs": [],
   "source": [
    "dtc_predictions = dtc_model.transform(test_data)\n",
    "rfc_predictions = rfc_model.transform(test_data)\n",
    "gbt_predictions = gbt_model.transform(test_data)"
   ]
  },
  {
   "cell_type": "code",
   "execution_count": null,
   "metadata": {},
   "outputs": [],
   "source": [
    "from pyspark.ml.evaluation import BinaryClassificationEvaluator\n",
    "\n",
    "my_binary_eval = BinaryClassificationEvaluator(labelCol = 'AverageHourlyPayDifference')"
   ]
  },
  {
   "cell_type": "code",
   "execution_count": null,
   "metadata": {},
   "outputs": [],
   "source": [
    "print(\"DTC\")\n",
    "print(my_binary_eval.evaluate(dtc_predictions))\n",
    "\n",
    "print(\"RFC\")\n",
    "print(my_binary_eval.evaluate(rfc_predictions))\n",
    "\n",
    "my_binary_gbt_eval = BinaryClassificationEvaluator(labelCol='AverageHourlyPayDifference', rawPredictionCol='prediction')\n",
    "print(\"GBT\")\n",
    "print(my_binary_gbt_eval.evaluate(gbt_predictions))"
   ]
  },
  {
   "cell_type": "code",
   "execution_count": null,
   "metadata": {},
   "outputs": [],
   "source": [
    "from pyspark.ml.evaluation import MulticlassClassificationEvaluator\n",
    "acc_evaluator = MulticlassClassificationEvaluator(labelCol=\"PrivateIndex\", predictionCol=\"prediction\", metricName=\"accuracy\")"
   ]
  },
  {
   "cell_type": "code",
   "execution_count": null,
   "metadata": {},
   "outputs": [],
   "source": [
    "dtc_acc = acc_evaluator.evaluate(dtc_predictions)\n",
    "rfc_acc = acc_evaluator.evaluate(rfc_predictions)\n",
    "gbt_acc = acc_evaluator.evaluate(gbt_predictions)"
   ]
  },
  {
   "cell_type": "code",
   "execution_count": null,
   "metadata": {},
   "outputs": [],
   "source": [
    "print(\"Here are the results!\")\n",
    "print('-'*40)\n",
    "print('A single decision tree has an accuracy of: {0:2.2f}%'.format(dtc_acc*100))\n",
    "print('-'*40)\n",
    "print('A random forest ensemble has an accuracy of: {0:2.2f}%'.format(rfc_acc*100))\n",
    "print('-'*40)\n",
    "print('An ensemble using GBT has an accuracy of: {0:2.2f}%'.format(gbt_acc*100))"
   ]
  }
 ],
 "metadata": {
  "kernelspec": {
   "display_name": "Python 3",
   "language": "python",
   "name": "python3"
  },
  "language_info": {
   "codemirror_mode": {
    "name": "ipython",
    "version": 3
   },
   "file_extension": ".py",
   "mimetype": "text/x-python",
   "name": "python",
   "nbconvert_exporter": "python",
   "pygments_lexer": "ipython3",
   "version": "3.5.2"
  }
 },
 "nbformat": 4,
 "nbformat_minor": 2
}
